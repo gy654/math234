{
 "cells": [
  {
   "cell_type": "markdown",
   "metadata": {},
   "source": [
    "Homework 6"
   ]
  },
  {
   "cell_type": "markdown",
   "metadata": {},
   "source": [
    "4.\n",
    "suppose that 50 people are given a placebo and 50 are given a new treatment. 30 placebo patients show improvement while 40 treated patients show improvement. Let $\\tau = p_2-p_1$ where $p_2$ is the probability of improving under treatment and $p_1$ is the probability of improving under placebo"
   ]
  },
  {
   "cell_type": "markdown",
   "metadata": {},
   "source": [
    "(b) Find the standard error and 90 percent confidence interval using the parametric bootstrap"
   ]
  },
  {
   "cell_type": "code",
   "execution_count": 23,
   "metadata": {},
   "outputs": [],
   "source": [
    "import numpy as np\n",
    "from scipy.stats import binom\n",
    "from scipy.stats import norm"
   ]
  },
  {
   "cell_type": "code",
   "execution_count": 24,
   "metadata": {},
   "outputs": [],
   "source": [
    "x1 = 30\n",
    "x2 = 40\n",
    "n1 = 50\n",
    "n2 = 50\n",
    "p1_hat = x1/n1\n",
    "p2_hat = x2/n2\n",
    "tau_hat = p1_hat - p2_hat\n",
    "B = 10**4\n",
    "alpha = 0.1"
   ]
  },
  {
   "cell_type": "code",
   "execution_count": 25,
   "metadata": {},
   "outputs": [
    {
     "ename": "NameError",
     "evalue": "name 'se' is not defined",
     "output_type": "error",
     "traceback": [
      "\u001b[0;31m---------------------------------------------------------------------------\u001b[0m",
      "\u001b[0;31mNameError\u001b[0m                                 Traceback (most recent call last)",
      "\u001b[0;32m<ipython-input-25-b410dfd25ffb>\u001b[0m in \u001b[0;36m<module>\u001b[0;34m\u001b[0m\n\u001b[1;32m      6\u001b[0m \u001b[0mlower\u001b[0m \u001b[0;34m=\u001b[0m \u001b[0mnp\u001b[0m\u001b[0;34m.\u001b[0m\u001b[0mquantile\u001b[0m\u001b[0;34m(\u001b[0m\u001b[0mtau_boot\u001b[0m\u001b[0;34m,\u001b[0m \u001b[0;36m0.05\u001b[0m\u001b[0;34m)\u001b[0m\u001b[0;34m\u001b[0m\u001b[0;34m\u001b[0m\u001b[0m\n\u001b[1;32m      7\u001b[0m \u001b[0mupper\u001b[0m \u001b[0;34m=\u001b[0m \u001b[0mnp\u001b[0m\u001b[0;34m.\u001b[0m\u001b[0mquantile\u001b[0m\u001b[0;34m(\u001b[0m\u001b[0mtau_boot\u001b[0m\u001b[0;34m,\u001b[0m \u001b[0;36m0.95\u001b[0m\u001b[0;34m)\u001b[0m\u001b[0;34m\u001b[0m\u001b[0;34m\u001b[0m\u001b[0m\n\u001b[0;32m----> 8\u001b[0;31m \u001b[0mprint\u001b[0m\u001b[0;34m(\u001b[0m\u001b[0;34m\"standard error is: \"\u001b[0m\u001b[0;34m,\u001b[0m \u001b[0mse\u001b[0m\u001b[0;34m)\u001b[0m\u001b[0;34m\u001b[0m\u001b[0;34m\u001b[0m\u001b[0m\n\u001b[0m\u001b[1;32m      9\u001b[0m \u001b[0mprint\u001b[0m\u001b[0;34m(\u001b[0m\u001b[0;34m\"90 percent confidence interval is: ( {:.5f} , {:.5f})\"\u001b[0m\u001b[0;34m.\u001b[0m\u001b[0mformat\u001b[0m\u001b[0;34m(\u001b[0m\u001b[0mlower\u001b[0m\u001b[0;34m,\u001b[0m \u001b[0mupper\u001b[0m\u001b[0;34m)\u001b[0m \u001b[0;34m)\u001b[0m\u001b[0;34m\u001b[0m\u001b[0;34m\u001b[0m\u001b[0m\n",
      "\u001b[0;31mNameError\u001b[0m: name 'se' is not defined"
     ]
    }
   ],
   "source": [
    "placebo_imp = binom.rvs(n1, p1_hat, size = B)\n",
    "treatment_imp = binom.rvs(n2, p2_hat, size = B)\n",
    "tau_boot = treatment_imp/n2 - placebo_imp/n1\n",
    "tau_hat = np.mean(tau_boot)\n",
    "\n",
    "lower = np.quantile(tau_boot, 0.05)\n",
    "upper = np.quantile(tau_boot, 0.95)\n",
    "print(\"standard error is: \", se)\n",
    "print(\"90 percent confidence interval is: ( {:.5f} , {:.5f})\".format(lower, upper) )\n"
   ]
  },
  {
   "cell_type": "markdown",
   "metadata": {},
   "source": [
    "(c) Use the prior $f\\left( p_1, p_2 \\right) =1$. Use simulation to find the posterior mean and posterior 90 percent interval for $\\tau$"
   ]
  },
  {
   "cell_type": "code",
   "execution_count": 4,
   "metadata": {},
   "outputs": [],
   "source": [
    "from scipy.stats import beta"
   ]
  },
  {
   "cell_type": "markdown",
   "metadata": {},
   "source": [
    "$X_1, X_2, \\dots X_n \\sim Bernoulli(p)$ and for the prior take the uniform distribution $f(p)=1$ on the domain $[0,1]$\n",
    "\n",
    "let $s=\\sum_{i=1}^{n} x_i$, the posterior is $f(p|x^n) \\propto Beta(\\alpha+1, \\beta+n+1)$, where $\\alpha = 1, \\beta =1$\n",
    "\n",
    "$p_1|X1 \\sim Beta(X_1+1, n1-X_1+1)$,\n",
    "$p_2|X2 \\sim Beta(X_2+1, n2-X_2+1)$"
   ]
  },
  {
   "cell_type": "code",
   "execution_count": 5,
   "metadata": {},
   "outputs": [],
   "source": [
    "x1 = 30\n",
    "x2 = 40\n",
    "n1 = 50\n",
    "n2 = 50\n",
    "B = 10**4\n",
    "alpha = 0.1"
   ]
  },
  {
   "cell_type": "code",
   "execution_count": 6,
   "metadata": {},
   "outputs": [
    {
     "name": "stdout",
     "output_type": "stream",
     "text": [
      "posterior mean is:  0.1931764219942001\n",
      "90 percent confidence interval for tau is: ( 0.04879 , 0.33756)\n"
     ]
    }
   ],
   "source": [
    "p1_x1 = beta.rvs(x1+1, n1-x1+1, size = B)\n",
    "p2_x2 = beta.rvs(x2+1, n2-x2+1, size = B)\n",
    "tau_boot = p2_x2 - p1_x1\n",
    "tau_posterior = np.mean(tau_boot)\n",
    "\n",
    "lower = np.quantile(tau_posterior, 0.05)\n",
    "upper = np.quantile(tau_posterior, 0.95)\n",
    "print(\"posterior mean is: \", tau_posterior)\n",
    "print(\"90 percent confidence interval for tau is: ( {:.5f} , {:.5f})\".format(lower, upper) )"
   ]
  },
  {
   "cell_type": "markdown",
   "metadata": {},
   "source": [
    "(e)"
   ]
  },
  {
   "cell_type": "code",
   "execution_count": 7,
   "metadata": {},
   "outputs": [
    {
     "name": "stdout",
     "output_type": "stream",
     "text": [
      "posterior mean is:  -0.9532188339383978\n",
      "90 percent confidence interval for psi is: ( -1.68584 , -0.22060)\n"
     ]
    }
   ],
   "source": [
    "p1_x1 = beta.rvs(x1+1, n1-x1+1, size = B)\n",
    "p2_x2 = beta.rvs(x2+1, n2-x2+1, size = B)\n",
    "psi_boot = np.log(p1_x1) - np.log(1-p1_x1)-np.log(p2_x2)+ np.log(1-p2_x2)\n",
    "psi_posterior = np.mean(psi_boot)\n",
    "se_psi = np.std(psi_boot)\n",
    "lower = psi_posterior - se_psi * z_10\n",
    "upper = psi_posterior + se_psi * z_10\n",
    "print(\"posterior mean is: \", psi_posterior)\n",
    "print(\"90 percent confidence interval for psi is: ( {:.5f} , {:.5f})\".format(lower, upper) )\n",
    "\n"
   ]
  },
  {
   "cell_type": "markdown",
   "metadata": {},
   "source": [
    "Problem 8"
   ]
  },
  {
   "cell_type": "markdown",
   "metadata": {},
   "source": [
    "Compare $P(H_0|X=x)$ and p-value of the Wald test. Do the comparison numerically for a variety of values of $x$ and $b$"
   ]
  },
  {
   "cell_type": "markdown",
   "metadata": {},
   "source": [
    "${\\displaystyle P(X=x|H_1)= \\frac{e^{-\\frac{x^2}{2}}}{2\\pi \\cdot b} {\\displaystyle \\int_{-\\infty}^{\\infty}}e^{-\\frac{b^2+1}{2b^2}\\mu ^2 + x\\mu}d\\mu = \\frac{e^{-\\frac{x^2}{2}+\\frac{b^2x^2}{2b^2+2}}}{2\\pi b}\\sqrt{\\frac{2b^2\\pi}{b^2+1}}}$\n",
    "\n",
    "\n",
    "\n",
    "${\\displaystyle P(H_0|X=x) = \\frac{\\frac{1}{\\sqrt{2\\pi}}e^{-\\frac{x^2}{2}}}{\\frac{1}{\\sqrt{2\\pi}}e^{-\\frac{x^2}{2}} + \\frac{e^{-\\frac{x^2}{2}+\\frac{b^2x^2}{2b^2+2}}}{2\\pi b}\\sqrt{\\frac{2b^2\\pi}{b^2+1}}}}$"
   ]
  },
  {
   "cell_type": "code",
   "execution_count": 5,
   "metadata": {},
   "outputs": [],
   "source": [
    "from scipy.stats import uniform\n",
    "from scipy.integrate import quad\n",
    "import numpy as np\n",
    "from scipy.stats import norm\n"
   ]
  },
  {
   "cell_type": "code",
   "execution_count": 27,
   "metadata": {},
   "outputs": [],
   "source": [
    "z_5 = norm.ppf(1- 0.05/2)"
   ]
  },
  {
   "cell_type": "code",
   "execution_count": 18,
   "metadata": {},
   "outputs": [],
   "source": [
    "def pvalue_ind(x):\n",
    "    if abs((x))> z_5:\n",
    "        return 1 ## reject H0\n",
    "    else:\n",
    "        return 0 ## not reject H0\n",
    "    "
   ]
  },
  {
   "cell_type": "code",
   "execution_count": 19,
   "metadata": {},
   "outputs": [],
   "source": [
    "def integral(b, x):\n",
    "    return np.exp(-x**2/2 + (b**2 * x**2)/(2*b**2+2))* np.sqrt(2*b**2* np.pi/(b**2+1)) / (2 * np.pi*b)"
   ]
  },
  {
   "cell_type": "code",
   "execution_count": 20,
   "metadata": {},
   "outputs": [],
   "source": [
    "b = np.random.uniform(0.5, 2, 60)\n",
    "x = np.zeros((1, 60))\n",
    "for i in range(60):\n",
    "    mu = np.random.normal(0,b[i],1)[0]\n",
    "    x[0][i] =  np.random.normal(mu, 1, 1)\n",
    "pair = np.transpose(np.array([b, x], dtype=object))"
   ]
  },
  {
   "cell_type": "code",
   "execution_count": 21,
   "metadata": {},
   "outputs": [
    {
     "name": "stdout",
     "output_type": "stream",
     "text": [
      "the p_value is:  0.18333333333333332\n"
     ]
    }
   ],
   "source": [
    "int_answer= np.zeros((1,60))\n",
    "p_val_ind = np.zeros((1,60))\n",
    "for i in range(60):\n",
    "    x_current = pair[1][0][i]\n",
    "    b_current = pair[0][i]\n",
    "    p_val_ind [0][i]= pvalue_ind(x_current)\n",
    "    int_answer[0][i] = integral(b_current, x_current)\n",
    "p_val = np.mean(p_val_ind)\n",
    "print(\"the p_value is: \", p_val)"
   ]
  },
  {
   "cell_type": "code",
   "execution_count": 22,
   "metadata": {},
   "outputs": [
    {
     "name": "stdout",
     "output_type": "stream",
     "text": [
      "the posterior probability of H0 is:  0.4948957897959989\n"
     ]
    }
   ],
   "source": [
    "x = pair[1][0]\n",
    "numerator = np.empty([1,60])\n",
    "for i in range(60):\n",
    "    numerator[0][i] = (1/np.sqrt(2*np.pi)) * np.exp(-x[i]**2/2)\n",
    "prob_H0 = numerator/(numerator + int_answer)\n",
    "p_H0_mean = np.mean(prob_H0)\n",
    "print(\"the posterior probability of H0 is: \", p_H0_mean)"
   ]
  },
  {
   "cell_type": "markdown",
   "metadata": {},
   "source": [
    "repeat the problem using a sample size n=100"
   ]
  },
  {
   "cell_type": "markdown",
   "metadata": {},
   "source": [
    "$ {\\displaystyle P(H_0| (x_1, x_2, \\dots x_n ))= \\frac{(\\frac{1}{\\sqrt{2\\pi}})^{n} \\cdot e^{-\\frac{x_1^2 + x_2^2 + \\dots x_n^2 }{2}}}{(\\frac{1}{\\sqrt{2\\pi}})^{n} \\cdot e^{-\\frac{x_1^2 + x_2^2 + \\dots x_n^2 }{2}} + {\\displaystyle \\prod_{i=1}^{n}}\\frac{e^{-\\frac{x^2_{ni}}{2}}}{2\\pi b}\\int_{-\\infty}^{\\infty}e^{-\\frac{b^2+1}{2b^2}\\mu^2+x_{ni}\\mu}d\\mu}}$\n",
    "\n",
    "\n",
    "\n",
    "${\\displaystyle p-value = P(\\lvert \\frac{\\bar{X_n}}{\\sqrt{n}}\\rvert > z_{\\alpha/2})}$"
   ]
  },
  {
   "cell_type": "code",
   "execution_count": 23,
   "metadata": {},
   "outputs": [],
   "source": [
    "def pvalue_ind_n(x, n):\n",
    "    if abs(np.mean(x)/(np.sqrt(n)))> z_5:\n",
    "        return 1 ## reject H0\n",
    "    else:\n",
    "        return 0 ## not reject H0"
   ]
  },
  {
   "cell_type": "code",
   "execution_count": 24,
   "metadata": {},
   "outputs": [],
   "source": [
    "def integral(b, x):\n",
    "    return np.exp(-x**2/2 + (b**2 * x**2)/(2*b**2+2))* np.sqrt(2*b**2* np.pi/(b**2+1)) / (2 * np.pi*b)"
   ]
  },
  {
   "cell_type": "code",
   "execution_count": 25,
   "metadata": {},
   "outputs": [],
   "source": [
    "n = 200\n",
    "z_5 = norm.ppf(1- 0.05/2)\n",
    "b = np.random.uniform(0.5, 2, 60)\n",
    "x = np.empty([60, n])\n",
    "for i in range(60):\n",
    "    mu = np.random.normal(0,b[i],1)[0]\n",
    "    x[i] = np.random.normal(mu, 1, n)"
   ]
  },
  {
   "cell_type": "code",
   "execution_count": 26,
   "metadata": {},
   "outputs": [],
   "source": [
    "\n",
    "p_val_ind_n = np.zeros((1,60))\n",
    "prod = np.zeros((1, 60))\n",
    "\n",
    "for i in range(60):\n",
    "    need_product = np.zeros((1, n))\n",
    "    b_current = b[i]\n",
    "    for j in range(n):\n",
    "        x_current = x[i][j]\n",
    "        need_product[0][j] = integral(b_current, x_current)\n",
    "    prod[0][i] = np.prod(need_product)\n",
    "    p_val_ind_n[0][i]= pvalue_ind_n(x[i], n)\n",
    "\n",
    "\n",
    "\n",
    "\n",
    "    "
   ]
  },
  {
   "cell_type": "code",
   "execution_count": 27,
   "metadata": {},
   "outputs": [],
   "source": [
    "numerator = np.zeros((1, 60))\n",
    "for i in range(60):\n",
    "    sum_square = np.dot(x[i], x[i])\n",
    "    exp = (-1/2)* sum_square\n",
    "    numerator[0][i]= (1/np.sqrt(2* np.pi))**n * np.exp(exp)\n",
    "    "
   ]
  },
  {
   "cell_type": "code",
   "execution_count": 28,
   "metadata": {},
   "outputs": [
    {
     "name": "stdout",
     "output_type": "stream",
     "text": [
      "the posterior probability of H0 is:  0.4549032931621652\n",
      "the p_value is:  0.0\n"
     ]
    }
   ],
   "source": [
    "p_value_n = np.mean(p_val_ind_n)\n",
    "p_H0_n = numerator / (numerator + prod)\n",
    "p_H0_n_mean = np.mean(p_H0_n)   \n",
    "    \n",
    "    \n",
    "print(\"the posterior probability of H0 is: \", p_H0_n_mean)\n",
    "print(\"the p_value is: \", p_value_n)\n"
   ]
  },
  {
   "cell_type": "markdown",
   "metadata": {},
   "source": [
    "Notice that the posterior probability of H0 can be large even when the p-value is small, especially when n is large."
   ]
  },
  {
   "cell_type": "code",
   "execution_count": 29,
   "metadata": {},
   "outputs": [
    {
     "data": {
      "text/plain": [
       "array([[4.27833177e-052, 3.87002330e-001, 2.26533809e-056,\n",
       "        8.79755832e-011, 0.00000000e+000, 9.99833649e-001,\n",
       "        2.66069814e-044, 1.00000000e+000, 3.20483371e-010,\n",
       "        1.00000000e+000, 3.34812869e-046, 9.98003505e-001,\n",
       "        3.88390868e-006, 0.00000000e+000, 2.15308611e-003,\n",
       "        9.99996269e-001, 2.72331248e-052, 6.80665407e-012,\n",
       "        9.97763431e-001, 2.75137666e-006, 1.00000000e+000,\n",
       "        9.96973218e-001, 9.99995012e-001, 1.14601473e-105,\n",
       "        9.94135120e-001, 1.00000000e+000, 4.80957061e-041,\n",
       "        1.39464974e-088, 0.00000000e+000, 9.99999999e-001,\n",
       "        2.59321093e-076, 9.99999997e-001, 9.99999909e-001,\n",
       "        1.00000000e+000, 7.08566917e-036, 9.99999699e-001,\n",
       "        8.00235606e-056, 3.35793998e-008, 9.99796644e-001,\n",
       "        1.00000000e+000, 7.19843990e-067, 1.00000000e+000,\n",
       "        9.99543465e-001, 4.02340880e-049, 0.00000000e+000,\n",
       "        1.94831393e-062, 8.00840776e-005, 9.99999994e-001,\n",
       "        2.02651555e-003, 0.00000000e+000, 9.16891427e-001,\n",
       "        0.00000000e+000, 1.00000000e+000, 9.99998784e-001,\n",
       "        1.00000000e+000, 1.61747641e-031, 1.00000000e+000,\n",
       "        9.99998783e-001, 0.00000000e+000, 1.10613688e-071]])"
      ]
     },
     "execution_count": 29,
     "metadata": {},
     "output_type": "execute_result"
    }
   ],
   "source": [
    "p_H0_n"
   ]
  },
  {
   "cell_type": "code",
   "execution_count": null,
   "metadata": {},
   "outputs": [],
   "source": []
  }
 ],
 "metadata": {
  "kernelspec": {
   "display_name": "Python 3",
   "language": "python",
   "name": "python3"
  },
  "language_info": {
   "codemirror_mode": {
    "name": "ipython",
    "version": 3
   },
   "file_extension": ".py",
   "mimetype": "text/x-python",
   "name": "python",
   "nbconvert_exporter": "python",
   "pygments_lexer": "ipython3",
   "version": "3.8.5"
  }
 },
 "nbformat": 4,
 "nbformat_minor": 4
}
