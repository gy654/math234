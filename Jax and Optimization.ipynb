{
 "cells": [
  {
   "cell_type": "markdown",
   "metadata": {},
   "source": [
    "# Jax and Optimization\n",
    "\n",
    "Two common optimization algorithms:\n",
    "1. Gradient descent -- requires gradient of objective function\n",
    "2. Newton's method  -- requires Hessian of objective function\n",
    "\n",
    "Gradients can be computed in 3 ways:\n",
    "1. Analytic derivation -- exact, but tedious to compute\n",
    "2. Finite differences  -- easy to implement, not exact\n",
    "3. Automatic differentiation -- exact, easy to implement\n",
    "\n",
    "\n",
    "Jax is an automatic differentiation library in Python.\n",
    "\n",
    "Documentation at [https://jax.readthedocs.io/en/latest/notebooks/quickstart.html](https://jax.readthedocs.io/en/latest/notebooks/quickstart.html)\n",
    "\n",
    "Can be installed on most laptops with\n",
    "\n",
    "`pip install --upgrade \"jax[cpu]\"`"
   ]
  },
  {
   "cell_type": "code",
   "execution_count": 1,
   "metadata": {},
   "outputs": [],
   "source": [
    "import numpy as np\n",
    "import jax.numpy as jnp     # Jax provides a wrapper for NumPy \n",
    "from jax import grad, vmap  # automatic differentiation\n",
    "from matplotlib import pyplot as plt\n",
    "from tqdm import tqdm"
   ]
  },
  {
   "cell_type": "markdown",
   "metadata": {},
   "source": [
    "## Compute gradients\n",
    "\n",
    "Use function `grad()`, which returns a callable\n",
    "\n",
    "Example:\n",
    "$$\n",
    "    f(x) = \\sin(x),\\quad g(x) = \\nabla f(x) = \\cos(x)\n",
    "$$"
   ]
  },
  {
   "cell_type": "code",
   "execution_count": 2,
   "metadata": {},
   "outputs": [
    {
     "name": "stderr",
     "output_type": "stream",
     "text": [
      "WARNING:absl:No GPU/TPU found, falling back to CPU. (Set TF_CPP_MIN_LOG_LEVEL=0 and rerun for more info.)\n"
     ]
    },
    {
     "name": "stdout",
     "output_type": "stream",
     "text": [
      "relative error : h = 1e-01\n",
      "---------------------------------\n",
      "Finite difference         : 7.9%\n",
      "Automatic differentiation : 0.0%\n"
     ]
    }
   ],
   "source": [
    "def f(x):\n",
    "    return jnp.sin(x)\n",
    "\n",
    "g = grad(f) # Callable\n",
    "\n",
    "# Compute with finite differences at x\n",
    "x = 1.\n",
    "\n",
    "h = 1e-1\n",
    "fd = (f(x + h) - f(x)) / h  # Finite difference approximation\n",
    "gx = g(x)                   # Automatic differentiation\n",
    "\n",
    "# Print relative error using the true derivative cos(x)\n",
    "print(\"relative error : h = {:0.0e}\".format(h))\n",
    "print(\"---------------------------------\")\n",
    "print(\"Finite difference         : {:0.1f}%\".format(100*np.abs((fd - np.cos(x))/np.cos(x))))\n",
    "print(\"Automatic differentiation : {:0.1f}%\".format(100*np.abs((gx - np.cos(x))/np.cos(x))))"
   ]
  },
  {
   "cell_type": "markdown",
   "metadata": {},
   "source": [
    "## Maximum likelihood estimation with gradient descent\n",
    "\n",
    "Consider a basic linear regression model $Y_i = w_0 + w_1 x_i + \\epsilon_i$ with $x_1,\\ldots,x_n$ fixed and $\\epsilon_i \\sim N(0,w_2^2)$.  The negative log-likelihood function is\n",
    "\n",
    "$$\n",
    "\\log L(w_0,w_1,w_2) = -\\frac{n}{2}\\log(2\\pi) - n\\log(w_2) - \\frac{1}{2w_2^2} \\sum_{i=1}^n (Y_i - w_0 - w_1 x_i)^2\n",
    "$$"
   ]
  },
  {
   "cell_type": "code",
   "execution_count": 3,
   "metadata": {},
   "outputs": [],
   "source": [
    "# Define the negative log-likelihood divided by n and ignoring the constant\n",
    "def f(w, Y, x):\n",
    "    n = len(x)\n",
    "    return jnp.log(w[2]) + jnp.mean((Y - w[0] - w[1]*x)**2) / (2*w[2]**2)"
   ]
  },
  {
   "cell_type": "code",
   "execution_count": 4,
   "metadata": {},
   "outputs": [
    {
     "data": {
      "image/png": "[encoded data removed]",
      "text/plain": [
       "<Figure size 432x288 with 1 Axes>"
      ]
     },
     "metadata": {
      "needs_background": "light"
     },
     "output_type": "display_data"
    }
   ],
   "source": [
    "# Generate data x, Y\n",
    "n = 100\n",
    "w_star = np.array([-0.7, 2., 0.5])\n",
    "\n",
    "x = np.linspace(0, 1, n)\n",
    "Y = w_star[0] + w_star[1]*x + w_star[2]*np.random.randn(n)\n",
    "\n",
    "\n",
    "\n",
    "# Plot data\n",
    "plt.scatter(x, Y, marker='o', c='b')\n",
    "plt.plot(x, w_star[0]+w_star[1]*x, c='r', ls='--')\n",
    "plt.xlabel(r'$x$')\n",
    "plt.ylabel(r'$Y$');"
   ]
  },
  {
   "cell_type": "code",
   "execution_count": 5,
   "metadata": {},
   "outputs": [
    {
     "name": "stderr",
     "output_type": "stream",
     "text": [
      "100%|██████████| 5000/5000 [01:20<00:00, 62.45it/s]\n"
     ]
    }
   ],
   "source": [
    "# Gradient descent\n",
    "eps = 1e-2     # Step size\n",
    "iters = 5000   # Number of iterations\n",
    "w = np.array([0., 0., 1.])  # Initialization\n",
    "\n",
    "# Compute the gradient using Jax\n",
    "g = grad(f, argnums=0)\n",
    "\n",
    "for i in tqdm(range(iters)):\n",
    "    w -= eps*g(w, Y, x)"
   ]
  },
  {
   "cell_type": "code",
   "execution_count": 6,
   "metadata": {},
   "outputs": [
    {
     "name": "stdout",
     "output_type": "stream",
     "text": [
      "Final norm of gradient = 6.67e-06\n"
     ]
    }
   ],
   "source": [
    "print(\"Final norm of gradient = {:0.2e}\".format(np.linalg.norm(g(w, Y, x))))"
   ]
  },
  {
   "cell_type": "code",
   "execution_count": 7,
   "metadata": {},
   "outputs": [
    {
     "name": "stdout",
     "output_type": "stream",
     "text": [
      "Estimated model\n",
      "---------------\n",
      "Y = -0.68 + 1.97x + e\n",
      "e ~ N(0, 0.45^2)\n"
     ]
    },
    {
     "data": {
      "image/png": "[encoded data removed]",
      "text/plain": [
       "<Figure size 432x288 with 1 Axes>"
      ]
     },
     "metadata": {
      "needs_background": "light"
     },
     "output_type": "display_data"
    }
   ],
   "source": [
    "plt.scatter(x, Y, marker='o', c='b')\n",
    "plt.plot(x, w[0]+w[1]*x, c='k', ls='--')\n",
    "plt.xlabel(r'$x$')\n",
    "plt.ylabel(r'$Y$')\n",
    "\n",
    "print('Estimated model')\n",
    "print('---------------')\n",
    "print('Y = {:0.2f} + {:0.2f}x + e'.format(w[0], w[1]))\n",
    "print('e ~ N(0, {:0.2}^2)'.format(w[2]))"
   ]
  }
 ],
 "metadata": {
  "kernelspec": {
   "display_name": "Python 3",
   "language": "python",
   "name": "python3"
  },
  "language_info": {
   "codemirror_mode": {
    "name": "ipython",
    "version": 3
   },
   "file_extension": ".py",
   "mimetype": "text/x-python",
   "name": "python",
   "nbconvert_exporter": "python",
   "pygments_lexer": "ipython3",
   "version": "3.8.5"
  }
 },
 "nbformat": 4,
 "nbformat_minor": 5
}
