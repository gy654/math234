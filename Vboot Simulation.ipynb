{
 "cells": [
  {
   "cell_type": "code",
   "execution_count": 1,
   "id": "nutritional-lafayette",
   "metadata": {},
   "outputs": [],
   "source": [
    "import numpy as np\n",
    "from matplotlib import pyplot as plt"
   ]
  },
  {
   "cell_type": "code",
   "execution_count": 2,
   "id": "cardiovascular-poison",
   "metadata": {},
   "outputs": [],
   "source": [
    "def alpha_k(x, k):\n",
    "    return np.mean((x - np.mean(x))**k)"
   ]
  },
  {
   "cell_type": "code",
   "execution_count": 3,
   "id": "incorporated-worship",
   "metadata": {},
   "outputs": [],
   "source": [
    "def bootstrap_variance(x, B):\n",
    "    \"\"\"Estimate the bootstrap variance for T_n using B replicates\"\"\"\n",
    "    n = len(x)\n",
    "    Tn = np.zeros(B)\n",
    "    for i in range(B):\n",
    "        xs = x[np.random.choice(n, n)]\n",
    "        Tn[i] = np.mean(xs)**2\n",
    "    return np.std(Tn)**2"
   ]
  },
  {
   "cell_type": "code",
   "execution_count": 4,
   "id": "pretty-veteran",
   "metadata": {},
   "outputs": [],
   "source": [
    "def wasserman(x):\n",
    "    n = len(x)\n",
    "    vboot = 4 * (np.mean(x)**2) * (alpha_k(x, 2))/n\n",
    "    vboot += 4 * np.mean(x) * alpha_k(x, 3) / (n**2)\n",
    "    vboot += alpha_k(x, 4) / (n**3)\n",
    "    return vboot"
   ]
  },
  {
   "cell_type": "code",
   "execution_count": 5,
   "id": "opposed-matter",
   "metadata": {},
   "outputs": [],
   "source": [
    "def alternate(x):\n",
    "    n = len(x)\n",
    "    a2 = alpha_k(x, 2)\n",
    "    a3 = alpha_k(x, 3)\n",
    "    a4 = alpha_k(x, 4)\n",
    "    vboot = 4 * (np.mean(x)**2) * (a2)/n\n",
    "    vboot += 4 * np.mean(x) * a3 / (n**2)\n",
    "    vboot += (a4 + (2*n - 3)*a2**2) / (n**3)\n",
    "    return vboot"
   ]
  },
  {
   "cell_type": "code",
   "execution_count": 17,
   "id": "educated-sharp",
   "metadata": {},
   "outputs": [
    {
     "name": "stdout",
     "output_type": "stream",
     "text": [
      "3\n",
      "5\n",
      "7\n",
      "9\n"
     ]
    }
   ],
   "source": [
    "nlist = [3, 5, 7, 9]\n",
    "\n",
    "was_boot = np.zeros(len(nlist))\n",
    "alt_boot = np.zeros(len(nlist))\n",
    "ref_boot = np.zeros(len(nlist))\n",
    "\n",
    "\n",
    "x = np.random.randn(n)\n",
    "\n",
    "for i in range(len(nlist)):\n",
    "    n = nlist[i] \n",
    "    was_boot[i] = wasserman(x)\n",
    "    alt_boot[i] = alternate(x)\n",
    "    ref_boot[i] = bootstrap_variance(x, int(1e5))\n",
    "    print(n)"
   ]
  },
  {
   "cell_type": "code",
   "execution_count": 18,
   "id": "backed-grammar",
   "metadata": {},
   "outputs": [
    {
     "data": {
      "image/png": "[encoded data removed]",
      "text/plain": [
       "<Figure size 432x288 with 1 Axes>"
      ]
     },
     "metadata": {
      "needs_background": "light"
     },
     "output_type": "display_data"
    }
   ],
   "source": [
    "plt.figure()\n",
    "plt.plot(nlist, ref_boot, 'k:x', lw=3, label='Monte Carlo')\n",
    "plt.plot(nlist, was_boot, 'b--o', lw=3, alpha=0.5, label='Wasserman')\n",
    "plt.plot(nlist, alt_boot, 'r-s', lw=3, alpha=0.5, label='Alternative')\n",
    "plt.xlabel(r'n')\n",
    "plt.ylabel(r'vboot')\n",
    "plt.grid()\n",
    "plt.legend();"
   ]
  },
  {
   "cell_type": "code",
   "execution_count": null,
   "id": "meaningful-commander",
   "metadata": {},
   "outputs": [],
   "source": []
  }
 ],
 "metadata": {
  "kernelspec": {
   "display_name": "Python 3",
   "language": "python",
   "name": "python3"
  },
  "language_info": {
   "codemirror_mode": {
    "name": "ipython",
    "version": 3
   },
   "file_extension": ".py",
   "mimetype": "text/x-python",
   "name": "python",
   "nbconvert_exporter": "python",
   "pygments_lexer": "ipython3",
   "version": "3.9.1"
  }
 },
 "nbformat": 4,
 "nbformat_minor": 5
}
