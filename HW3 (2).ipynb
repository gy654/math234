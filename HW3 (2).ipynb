{
 "cells": [
  {
   "cell_type": "markdown",
   "metadata": {},
   "source": [
    "# <center>Mathematical Statistics: HW \\# 3</center>\n",
    "## <center>Due October 26th, 2021</center>\n",
    "## <center>Solutions by Terrence Alsup</center>"
   ]
  },
  {
   "cell_type": "markdown",
   "metadata": {},
   "source": [
    "Start by importing necessary packages that will be used throughout."
   ]
  },
  {
   "cell_type": "code",
   "execution_count": 1,
   "metadata": {},
   "outputs": [],
   "source": [
    "import numpy as np                         # Numerical computing\n",
    "from matplotlib import pyplot as plt       # Plotting\n",
    "from scipy import stats                    # Random Sampling\n",
    "plt.rcParams.update({\n",
    "    \"text.usetex\": True,\n",
    "    \"font.size\": 22})                      # Use Latex for formating plots and increase font size\n",
    "from tqdm import tqdm                      # Keep track of progress for long loops"
   ]
  },
  {
   "cell_type": "markdown",
   "metadata": {},
   "source": [
    "# Chapter 7"
   ]
  },
  {
   "cell_type": "markdown",
   "metadata": {},
   "source": [
    "## Problem 3"
   ]
  },
  {
   "cell_type": "markdown",
   "metadata": {},
   "source": [
    "Create a method called `ConfidenceBand()` to evaluate the functions\n",
    "\n",
    "$$\n",
    "    L(x) = \\max\\{ \\hat{F}_n(x) - \\epsilon_n,\\ 0\\},\\quad U(x) = \\min\\{\\hat{F}_n(x)+\\epsilon_n,\\ 1\\} \n",
    "$$\n",
    "\n",
    "with\n",
    "\n",
    "$$\n",
    "\\epsilon_n = \\sqrt{\\frac{1}{2n}\\log\\frac{2}{\\alpha}}\n",
    "$$"
   ]
  },
  {
   "cell_type": "code",
   "execution_count": 2,
   "metadata": {},
   "outputs": [],
   "source": [
    "def ConfidenceBand(X, x, alpha=0.05):\n",
    "    \"\"\"\n",
    "    Compute a 1-alpha confidence band using the data X (default is 95% confidence band)\n",
    "    by evaluating the upper and lower bounds at the grid points x.\n",
    "    \n",
    "    Input:\n",
    "    X is a numpy array of shape (n,), where n is the sample size.\n",
    "    alpha is a float between 0 and 1 (exclusive).\n",
    "    x is a numpy array of shape (m,), where m is the number of grid points.\n",
    "    \n",
    "    Return:\n",
    "    cb: a numpy array of shape (3,m), where cb[0] is the empirical cdf evaluated at\n",
    "    the m grid points, cb[1] is the lower bound evaluated at the m grid points and \n",
    "    cb[2] is the upper bound evaluated at the grid points.\n",
    "    \"\"\"\n",
    "    \n",
    "    n = X.shape[0] # Get the sample size\n",
    "    m = x.shape[0] # Get the number of grid points\n",
    "    \n",
    "    # Pre-allocate space for the results\n",
    "    cb = np.zeros((3, m))\n",
    "    \n",
    "    # Compute the empirical cdf at the grid points x\n",
    "    cb[0] = np.apply_along_axis(lambda x, X: np.mean(X <= x), 0, x.reshape((1,-1)), X)\n",
    "    \n",
    "    # Compute the lower bound\n",
    "    cb[1] = np.maximum(cb[0] - np.sqrt(np.log(2/alpha)/(2*n)), 0)\n",
    "    \n",
    "    # Compute the upper bound\n",
    "    cb[2] = np.minimum(cb[0] + np.sqrt(np.log(2/alpha)/(2*n)), 1)\n",
    "    \n",
    "    return cb"
   ]
  },
  {
   "cell_type": "markdown",
   "metadata": {},
   "source": [
    "Now generate $n=100$ random observations from a $N(0,1)$ distribution and compute the confidence band using a grid of points.  Here the grid of points corresponds to $m=1000$ equally-spaced points between then $10^{-3}$ and $1 - 10^{-3}$ percentiles of the standard normal distribution.  You could also have used other grid points."
   ]
  },
  {
   "cell_type": "code",
   "execution_count": 3,
   "metadata": {},
   "outputs": [
    {
     "data": {
      "image/png": "[encoded data removed]",
      "text/plain": [
       "<Figure size 432x288 with 1 Axes>"
      ]
     },
     "metadata": {
      "needs_background": "light"
     },
     "output_type": "display_data"
    }
   ],
   "source": [
    "n = 100                 # Sample size\n",
    "X = np.random.randn(n)  # Random observations\n",
    "m = 1000                # Number of grid points\n",
    "x = np.linspace(stats.norm.ppf(1e-3), stats.norm.ppf(1-1e-3), m)  # Grid points\n",
    "cb = ConfidenceBand(X, x)   # Note that alpha = 0.05 by default\n",
    "\n",
    "# Plot the results and include a legend and axis labels\n",
    "plt.plot(x, cb.T)\n",
    "plt.legend(['ECDF', 'Lower', 'Upper'])\n",
    "plt.title('Confidence Bands for the Empirical CDF (ECDF)')\n",
    "plt.xlabel('$x$')\n",
    "plt.ylabel('Cumulative Probability');"
   ]
  },
  {
   "cell_type": "markdown",
   "metadata": {},
   "source": [
    "Create a method called `estimateCoverage()` that estimates the coverage using many trials to avoid repeating code for the Cauchy distribution later."
   ]
  },
  {
   "cell_type": "code",
   "execution_count": 4,
   "metadata": {},
   "outputs": [],
   "source": [
    "def estimateCoverage(trials, rv, n, m):\n",
    "    \"\"\"\n",
    "    Estimate the coverage probability of the confidence band using repeated trials.\n",
    "    rv is a random variable object \n",
    "    \"\"\"\n",
    "    \n",
    "    # Get the grid points for the distribution\n",
    "    x = np.linspace(rv.ppf(1e-3), rv.ppf(1-1e-3), 1000)\n",
    "\n",
    "    count = 0  # Keep track whenever the confidence band does not contain the CDF\n",
    "    for t in tqdm(range(trials)):\n",
    "        X   = rv.rvs(size=n)          # Generate n=100 new observations\n",
    "        cb  = ConfidenceBand(X, x)    # Compute the new confidence band\n",
    "        cdf = rv.cdf(x)               # Evaluate the true CDF\n",
    "        if np.any(cb[1] > cdf) or np.any(cb[2] < cdf):\n",
    "            count += 1\n",
    "            \n",
    "    # Return coverage estimate\n",
    "    return (trials - count)/trials"
   ]
  },
  {
   "cell_type": "markdown",
   "metadata": {},
   "source": [
    "Now repeat this 1000 times and look at the percentage of times that the confidence band contains the true CDF of a standard normal distribution."
   ]
  },
  {
   "cell_type": "code",
   "execution_count": 5,
   "metadata": {},
   "outputs": [
    {
     "name": "stderr",
     "output_type": "stream",
     "text": [
      "100%|██████████| 1000/1000 [00:16<00:00, 60.27it/s]"
     ]
    },
    {
     "name": "stdout",
     "output_type": "stream",
     "text": [
      "Estimated Coverage = 95.2%\n"
     ]
    },
    {
     "name": "stderr",
     "output_type": "stream",
     "text": [
      "\n"
     ]
    }
   ],
   "source": [
    "trials = 1000  # Total number of trials\n",
    "\n",
    "rv = stats.norm\n",
    "\n",
    "# Compute the estimated coverage\n",
    "coverage = estimateCoverage(trials, rv, n, m)\n",
    "print(\"Estimated Coverage = {:0.1f}%\".format(100*coverage))"
   ]
  },
  {
   "cell_type": "markdown",
   "metadata": {},
   "source": [
    "Repeat using the Cauchy distribution."
   ]
  },
  {
   "cell_type": "code",
   "execution_count": 6,
   "metadata": {},
   "outputs": [
    {
     "name": "stderr",
     "output_type": "stream",
     "text": [
      "100%|██████████| 1000/1000 [00:18<00:00, 54.23it/s]"
     ]
    },
    {
     "name": "stdout",
     "output_type": "stream",
     "text": [
      "Estimated Coverage = 99.5%\n"
     ]
    },
    {
     "name": "stderr",
     "output_type": "stream",
     "text": [
      "\n"
     ]
    }
   ],
   "source": [
    "rv = stats.cauchy\n",
    "\n",
    "# Compute the estimated coverage\n",
    "coverage = estimateCoverage(trials, rv, n, m)\n",
    "print(\"Estimated Coverage = {:0.1f}%\".format(100*coverage))"
   ]
  },
  {
   "cell_type": "markdown",
   "metadata": {},
   "source": [
    "You can easily test this for other distributions by changing what the random variable `rv` is.  A full list of options is available in the SciPy stats documentation https://docs.scipy.org/doc/scipy/reference/stats.html"
   ]
  },
  {
   "cell_type": "markdown",
   "metadata": {},
   "source": [
    "## Problem 9"
   ]
  },
  {
   "cell_type": "markdown",
   "metadata": {},
   "source": [
    "We can model the recovery of a patient as a Bernoulli random variable with parameter $p_1$ and $1$ corresponding to recovery.  The estimates for $p_1$ and $p_2$ are \n",
    "$$\n",
    "    \\hat{p}_1 = \\frac{90}{100} = 0.9, \\quad \\hat{p}_2 = \\frac{85}{100} = 0.85\\, ,\n",
    "$$\n",
    "respectively.  An estimate for $\\theta$ is $\\hat{\\theta} = \\hat{p}_1 - \\hat{p}_2 = 0.05$.  Because these estimates are sample means of Bernoulli random variables, the estimated standard error is given by\n",
    "$$\n",
    "    \\widehat{\\mathrm{se}}\\left(\\hat{\\theta}\\right) = \\sqrt{ \\frac{\\hat{p}_1(1-\\hat{p}_1)}{100} + \\frac{\\hat{p}_2(1-\\hat{p}_2)}{100} } \\approx 0.047\\, .\n",
    "$$\n",
    "An approximate normal-based 80% confidence interval for $\\theta$ is\n",
    "$$\n",
    "    \\hat{\\theta} \\pm \\Phi^{-1}(0.1) \\widehat{\\mathrm{se}}\\left(\\hat{\\theta}\\right) = 0.05 \\pm 0.06\\, ,\n",
    "$$\n",
    "where $\\Phi^{-1}$ is the inverse CDF of a standard normal distribution.  An approximate 95\\% confidence interval is given by\n",
    "$$\n",
    "    \\hat{\\theta} \\pm \\Phi^{-1}(0.025) \\widehat{\\mathrm{se}}\\left(\\hat{\\theta}\\right) = 0.05 \\pm 0.09\\, .\n",
    "$$\n",
    "Because even the 80% confidence interval contains 0, there is strong evidence that the new treatment is not statistically significant."
   ]
  },
  {
   "cell_type": "markdown",
   "metadata": {},
   "source": [
    "# Chapter 8"
   ]
  },
  {
   "cell_type": "markdown",
   "metadata": {},
   "source": [
    "## Problem 2"
   ]
  },
  {
   "cell_type": "markdown",
   "metadata": {},
   "source": [
    "First create a function called `bootstrapConfidenceIntervals()` that computes the bootstrap confidence intervals using each of the three methods."
   ]
  },
  {
   "cell_type": "code",
   "execution_count": 7,
   "metadata": {},
   "outputs": [],
   "source": [
    "def bootstrapConfidenceIntervals(T, X, B, alpha=0.05):\n",
    "    \"\"\"\n",
    "    \"\"\"\n",
    "    \n",
    "    # Pre-allocate space for the bootstrap confidence intervals\n",
    "    bci = np.zeros((3, 2))\n",
    "    \n",
    "    # Evaluate the statistic for the sample\n",
    "    Tx = T(X)\n",
    "    \n",
    "    n = X.shape[0]  # sample size\n",
    "    \n",
    "    # Create a vector to store all of the bootstrap replicates\n",
    "    Tboot = np.zeros(B)\n",
    "    \n",
    "    # Perform bootstrap simulations\n",
    "    for b in range(B):\n",
    "        Xb = np.random.choice(X, n)  # Resample data\n",
    "        Tboot[b] = T(Xb)             # Recompute statistic\n",
    "    \n",
    "    # Compute the normal-based bootstrap confidence interval\n",
    "    z  = stats.norm.ppf(alpha/2)  # z-score (note that this is negative)\n",
    "    se = np.std(Tboot)     # Standard error\n",
    "    bci[0, 0] = Tx + z*se  # Lower bound\n",
    "    bci[0, 1] = Tx - z*se  # Upper bound\n",
    "    \n",
    "    # Compute the pivot bootstrap confidence interval\n",
    "    Tboot_low = np.quantile(Tboot, alpha/2)\n",
    "    Tboot_upp = np.quantile(Tboot, 1-alpha/2)\n",
    "    bci[1, 0] = 2*Tx - Tboot_upp   # Lower bound\n",
    "    bci[1, 1] = 2*Tx - Tboot_low   # Upper bound\n",
    "    \n",
    "    # Compute the quantile bootstrap confidence interval\n",
    "    bci[2, 0] = Tboot_low  # Lower bound\n",
    "    bci[2, 1] = Tboot_upp  # Upper bound\n",
    "    \n",
    "    return bci"
   ]
  },
  {
   "cell_type": "markdown",
   "metadata": {},
   "source": [
    "Compute the bootstrap confidence intervals using the simulated data."
   ]
  },
  {
   "cell_type": "code",
   "execution_count": 8,
   "metadata": {},
   "outputs": [
    {
     "name": "stdout",
     "output_type": "stream",
     "text": [
      "Method       Lower Bound       Upper Bound\n",
      "------------------------------------------\n",
      "Normal          0.65              1.79\n",
      "Pivot           0.61              1.76\n",
      "Quantile        0.68              1.83\n"
     ]
    }
   ],
   "source": [
    "B = 10000  # Bootstrap replicates\n",
    "n = 50     # Sample size\n",
    "Y = np.exp(np.random.randn(n))  # Random samples\n",
    "\n",
    "bci = bootstrapConfidenceIntervals(stats.skew, Y, B)\n",
    "\n",
    "# Print results\n",
    "print('Method       Lower Bound       Upper Bound')\n",
    "print('------------------------------------------')\n",
    "print('Normal          {:0.2f}              {:0.2f}'.format(bci[0, 0], bci[0, 1]))\n",
    "print('Pivot           {:0.2f}              {:0.2f}'.format(bci[1, 0], bci[1, 1]))\n",
    "print('Quantile        {:0.2f}              {:0.2f}'.format(bci[2, 0], bci[2, 1]))"
   ]
  },
  {
   "cell_type": "code",
   "execution_count": 9,
   "metadata": {},
   "outputs": [
    {
     "name": "stdout",
     "output_type": "stream",
     "text": [
      "Estimated skewness = 6.210\n"
     ]
    },
    {
     "name": "stderr",
     "output_type": "stream",
     "text": [
      "100%|██████████| 100/100 [05:02<00:00,  3.03s/it]"
     ]
    },
    {
     "name": "stdout",
     "output_type": "stream",
     "text": [
      "Method           Estimated Coverage %\n",
      "-------------------------------------\n",
      "Normal                 9.0\n",
      "Pivot                  12.0\n",
      "Quantile               2.0\n"
     ]
    },
    {
     "name": "stderr",
     "output_type": "stream",
     "text": [
      "\n"
     ]
    }
   ],
   "source": [
    "# Estimate the true skewness using many samples\n",
    "skewness = stats.skew(np.exp(np.random.randn(int(1e8))))\n",
    "print(\"Estimated skewness = {:0.3f}\".format(skewness))\n",
    "\n",
    "B = 10000\n",
    "trials = 100\n",
    "counts = np.zeros(3)  # For each method keep track of if the confidence interval contains the true value\n",
    "for t in tqdm(range(trials)):\n",
    "    Y = np.exp(np.random.randn(n)) # Generate new observations\n",
    "    bci = bootstrapConfidenceIntervals(stats.skew, Y, B)\n",
    "    if (bci[0, 0] <= skewness) and (skewness <= bci[0, 1]):\n",
    "        counts[0] += 1\n",
    "    if (bci[1, 0] <= skewness) and (skewness <= bci[1, 1]):\n",
    "        counts[1] += 1\n",
    "    if (bci[2, 0] <= skewness) and (skewness <= bci[2, 1]):\n",
    "        counts[2] += 1\n",
    "\n",
    "# Compute coverage estimates\n",
    "coverages = counts/trials\n",
    "\n",
    "# Print results\n",
    "print(\"Method           Estimated Coverage %\")\n",
    "print(\"-------------------------------------\")\n",
    "print(\"Normal                 {:0.1f}\".format(coverages[0]*100))\n",
    "print(\"Pivot                  {:0.1f}\".format(coverages[1]*100))\n",
    "print(\"Quantile               {:0.1f}\".format(coverages[2]*100))"
   ]
  },
  {
   "cell_type": "markdown",
   "metadata": {},
   "source": [
    "As we can see, these coverage estimates are extremely low and well below 95%.  The issue is that the skewness of a log-normal distribution is very difficult to estimate.  The log-normal distribution has heavy tails which means that an extreme event will occur rarely.  With only $n=50$ samples, most of the samples will be far below the mean giving inaccurate estimates.  Moreover, the bootstrap distribution will not be close to the true sampling distribution.  Let's investigate this a little more by looking at these two distributions and compare them to the true skewness value."
   ]
  },
  {
   "cell_type": "code",
   "execution_count": 10,
   "metadata": {},
   "outputs": [
    {
     "name": "stderr",
     "output_type": "stream",
     "text": [
      "100%|██████████| 10000/10000 [00:06<00:00, 1663.56it/s]\n"
     ]
    }
   ],
   "source": [
    "B = 10000  # Number of bootstrap replicates\n",
    "tboot = np.zeros(B)  # Bootstrap replicates\n",
    "tsamp = np.zeros(B)  # Independent estimates of the skewness\n",
    "\n",
    "Y = np.exp(np.random.randn(50))\n",
    "for i in tqdm(range(B)):\n",
    "    Yb = np.random.choice(Y, 50)\n",
    "    tboot[i] = stats.skew(Yb)\n",
    "    tsamp[i] = stats.skew(np.exp(np.random.randn(50)))"
   ]
  },
  {
   "cell_type": "code",
   "execution_count": 12,
   "metadata": {},
   "outputs": [
    {
     "data": {
      "image/png": "[encoded data removed]",
      "text/plain": [
       "<Figure size 432x288 with 1 Axes>"
      ]
     },
     "metadata": {
      "needs_background": "light"
     },
     "output_type": "display_data"
    }
   ],
   "source": [
    "plt.hist(tboot, alpha=0.5, bins=100, density=True, label='Bootstrap')\n",
    "plt.hist(tsamp, alpha=0.5, bins=100, density=True, label='Sampling')\n",
    "plt.axvline(skewness, ls=':', c='k', lw=4, label='Skewness = {:0.3f}'.format(skewness))\n",
    "plt.xlabel('Skewness Estimate')\n",
    "plt.ylabel('Density')\n",
    "plt.title('Sampling and bootstrap densities for the sample skewness: $n=50$')\n",
    "plt.legend();"
   ]
  },
  {
   "cell_type": "markdown",
   "metadata": {},
   "source": [
    "We see that the sampling distribution for the estimator when $n=50$ is generally very far from the true skewness, which was estimated with $10^8$ samples.  Furthermore, the bootstrap does not provide a good approximation to the sampling distribution.  These two reasons are why the coverage probabilities, and hence also their estimates, are extremely low.  The confidence intervals almost never contain the true skewness."
   ]
  },
  {
   "cell_type": "markdown",
   "metadata": {},
   "source": [
    "## Problem 6"
   ]
  },
  {
   "cell_type": "markdown",
   "metadata": {},
   "source": [
    "### (a)\n",
    "\n",
    "Since $X_1,\\ldots,X_n \\sim N(5, 1)$ are i.i.d., we know that $\\bar{X}_n \\sim N(5, 1/n)$.  Therefore, $\\hat{\\theta}$ has a log-normal distribution, which is the true sampling distribution.  We know that in this case the true standard error is given by the formula (see Wikipedia https://en.wikipedia.org/wiki/Log-normal_distribution)\n",
    "\n",
    "$$\n",
    "\\mathrm{se}(\\hat{\\theta}) = \\sqrt{ (e^{n^{-1}} - 1)(e^{2\\mu} + n^{-1})  }\n",
    "$$"
   ]
  },
  {
   "cell_type": "code",
   "execution_count": 13,
   "metadata": {},
   "outputs": [
    {
     "name": "stderr",
     "output_type": "stream",
     "text": [
      "100%|██████████| 10000/10000 [00:00<00:00, 19828.48it/s]"
     ]
    },
    {
     "name": "stdout",
     "output_type": "stream",
     "text": [
      "Theta_hat      = 145.642\n",
      "True Std. Err. = 14.878\n",
      "Est. Std. Err. = 13.488\n",
      "95% C.I.       = [118.67, 172.62]\n"
     ]
    },
    {
     "name": "stderr",
     "output_type": "stream",
     "text": [
      "\n"
     ]
    }
   ],
   "source": [
    "# Create a data set\n",
    "n = 100  # Sample size\n",
    "mu = 5\n",
    "X = mu + np.random.randn(n)\n",
    "\n",
    "# Estimate theta\n",
    "theta_hat = np.exp(np.mean(X))\n",
    "\n",
    "# Use the bootstrap to get the standard error\n",
    "B = int(1e4)\n",
    "tboot = np.zeros(B)\n",
    "for b in tqdm(range(B)):\n",
    "    Xb = np.random.choice(X, n)    # Resampled data\n",
    "    tboot[b] = np.exp(np.mean(Xb)) # Bootstrap replicate\n",
    "se = np.std(tboot)\n",
    "# Compute confidence interval lower and upper bounds\n",
    "lower = theta_hat - 2*se\n",
    "upper = theta_hat + 2*se\n",
    "\n",
    "# True standard error from log-normal formula\n",
    "true_se = np.sqrt((np.exp(1/n)-1)*(np.exp(2*mu) + 1/n))\n",
    "\n",
    "# Print the estimate, standard error, and 95% confidence interval\n",
    "print('Theta_hat      = {:0.3f}'.format(theta_hat))\n",
    "print('True Std. Err. = {:0.3f}'.format(true_se))\n",
    "print('Est. Std. Err. = {:0.3f}'.format(se))\n",
    "print('95% C.I.       = [{:0.2f}, {:0.2f}]'.format(lower, upper))"
   ]
  },
  {
   "cell_type": "markdown",
   "metadata": {},
   "source": [
    "### (b)"
   ]
  },
  {
   "cell_type": "code",
   "execution_count": 14,
   "metadata": {},
   "outputs": [
    {
     "data": {
      "image/png": "[encoded data removed]",
      "text/plain": [
       "<Figure size 432x288 with 1 Axes>"
      ]
     },
     "metadata": {
      "needs_background": "light"
     },
     "output_type": "display_data"
    }
   ],
   "source": [
    "# Plot the normalized histogram against the true sampling density\n",
    "rv = stats.lognorm(scale=np.exp(5), s=1/np.sqrt(n), loc=0)\n",
    "x = np.linspace(rv.ppf(0.001), rv.ppf(0.999), 1000)\n",
    "\n",
    "\n",
    "# Plot results\n",
    "plt.hist(tboot, bins=100, density=True, alpha=0.7, label='Bootstrap')\n",
    "plt.plot(x, rv.pdf(x), c='k', label='Sampling')\n",
    "plt.xlabel('$\\hat{\\\\theta}$')\n",
    "plt.ylabel('Density')\n",
    "plt.title('Bootstrap vs. Sampling Distribution')\n",
    "plt.legend();"
   ]
  },
  {
   "cell_type": "markdown",
   "metadata": {},
   "source": [
    "In comparing the true sampling distribution with the bootstrap approximation, we see that although they are rarely centered at the same location, both distributions have approximately the same width.  This means that bootstrap standard error estimates will be good approximations of the true standard error.  In fact we see this is the case by using the formula for the true standard error."
   ]
  },
  {
   "cell_type": "markdown",
   "metadata": {},
   "source": [
    "## Problem 7"
   ]
  },
  {
   "cell_type": "markdown",
   "metadata": {},
   "source": [
    "### (a)"
   ]
  },
  {
   "cell_type": "markdown",
   "metadata": {},
   "source": [
    "We can easily find the distribution of the maximum by first finding the CDF.\n",
    "$$\n",
    "F_{\\hat{\\theta}}(x) = P(\\max \\{X_1,\\ldots,X_n\\} \\le x) = \\prod_{i=1}^n P(X_i \\le x) = \\left(\\frac{x}{\\theta}\\right)^n, \\quad x\\in [0,\\theta] \n",
    "$$\n",
    "and then taking the derivative to get the density\n",
    "$$\n",
    "f_{\\hat{\\theta}}(x) = \\frac{nx^{n-1}}{\\theta^n},\\quad x\\in[0,\\theta]\n",
    "$$"
   ]
  },
  {
   "cell_type": "code",
   "execution_count": 15,
   "metadata": {},
   "outputs": [
    {
     "name": "stderr",
     "output_type": "stream",
     "text": [
      "100%|██████████| 10000/10000 [00:00<00:00, 24517.80it/s]\n"
     ]
    },
    {
     "data": {
      "image/png": "[encoded data removed]",
      "text/plain": [
       "<Figure size 432x288 with 1 Axes>"
      ]
     },
     "metadata": {
      "needs_background": "light"
     },
     "output_type": "display_data"
    }
   ],
   "source": [
    "# Draw uniform random data with theta=1 and n=50\n",
    "n = 50\n",
    "X = np.random.rand(n)\n",
    "\n",
    "# Compute theta_hat\n",
    "theta_hat = np.max(X)\n",
    "\n",
    "# Compute bootstrap replicates\n",
    "B = int(1e4)\n",
    "tboot = np.zeros(B)\n",
    "for b in tqdm(range(B)):\n",
    "    Xb = np.random.choice(X, n)  # Bootstrap resampled data\n",
    "    tboot[b] = np.max(Xb)        # Bootstrap replicate\n",
    "\n",
    "# Plot bootstrap replicate results and compare with the true density\n",
    "plt.hist(tboot, density=True, bins=30, alpha=0.7, label='Bootstrap')\n",
    "x = np.linspace(np.min(tboot), 1, 1000) # Equally-spaced points between 0 and theta=1\n",
    "fx = n*x**(n-1)  # Density of estimator with theta=1\n",
    "plt.plot(x, fx, c='k', label='Sampling')\n",
    "theta_str = '$\\hat\\\\theta$ = {:0.3f}'.format(theta_hat)\n",
    "plt.axvline(theta_hat, c='r', ls=':', lw=3, label=theta_str)\n",
    "plt.xlabel('$\\hat{\\\\theta}$')\n",
    "plt.xlim([np.min(tboot), 1])\n",
    "plt.ylabel('Density')\n",
    "plt.title('Bootstrap and Sampling Densities: $n=50$')\n",
    "plt.legend();"
   ]
  },
  {
   "cell_type": "markdown",
   "metadata": {},
   "source": [
    "The true sampling distribution is continuous up to the true value of $\\theta$ whereas the bootstrap distribution is discrete and can never exceed the value of $\\hat{\\theta}$.  In fact the support of the bootstrap distribution is exactly the original data points $X_1,\\ldots,X_n$."
   ]
  },
  {
   "cell_type": "markdown",
   "metadata": {},
   "source": [
    "### (b)\n",
    "\n",
    "Since $\\hat{\\theta}$ has a continuous distribution we know that\n",
    "\n",
    "$$\n",
    "P\\left(\\hat{\\theta}(X_1,\\ldots,X_n) = \\hat{\\theta}(x_1,\\ldots,x_n)\\right) = 0,\n",
    "$$\n",
    "\n",
    "where $x_1,\\ldots,x_n$ are realizations of the random variables $X_1,\\ldots,X_n$ i.e. the data.  At the same time note that $\\hat{\\theta}^* = \\hat{\\theta}$ whenever the bootstrap sample contains the maximum.  In other words, at least one of the bootstrap resampled data is the maximum.  Therefore,\n",
    "\n",
    "$$\n",
    "P\\left( \\hat{\\theta}^* = \\hat{\\theta} \\right) = 1 - P\\left( X_j^* \\neq \\hat{\\theta},\\ \\forall j=1,\\ldots,n \\right)\n",
    "$$\n",
    "\n",
    "Since each resampled data point cannot be the maximum, there are $n-1$ options remaining and the probability of choosing one of these is $(n-1)/n = 1 - 1/n$.  Moreover, since the bootstrap resampled data is conditionally independent given the original data set, we have that\n",
    "\n",
    "$$\n",
    "P\\left( \\hat{\\theta}^* = \\hat{\\theta} \\right) = 1 - \\left(1 - \\frac{1}{n} \\right)^n\n",
    "$$\n",
    "\n",
    "which converges to $1 - e^{-1} \\approx 0.632$ in the limit as $n\\to \\infty$."
   ]
  },
  {
   "cell_type": "markdown",
   "metadata": {},
   "source": [
    "# Chapter 9"
   ]
  },
  {
   "cell_type": "markdown",
   "metadata": {},
   "source": [
    "## Problem 1"
   ]
  },
  {
   "cell_type": "markdown",
   "metadata": {},
   "source": [
    "If $X_1,\\ldots,X_n \\sim \\text{Gamma}(\\alpha, \\beta)$, then the method of moments estimator can be found by computing the first two moments.\n",
    "\n",
    "$$\n",
    "\\mathbb{E}[X] = \\alpha \\beta,\\quad \\mathrm{Var}[X] = \\alpha \\beta^2,\n",
    "$$\n",
    "\n",
    "and setting the estimators $\\hat{\\alpha},\\hat{\\beta}$ to solve the equations\n",
    "\n",
    "$$\n",
    "\\bar{X}_n = \\hat{\\alpha}\\hat{\\beta},\\quad \\hat{\\sigma}_n^2 = \\hat{\\alpha}\\hat{\\beta}^2,\n",
    "$$\n",
    "\n",
    "where\n",
    "\n",
    "$$\n",
    "\\hat{\\sigma}_n^2 = \\frac{1}{n}\\sum_{i=1}^n \\left( X_i - \\bar{X}_n \\right)^2 .\n",
    "$$\n",
    "\n",
    "Note that for the method of moments, using either the variance or the second moment will give equivalent results because \n",
    "\n",
    "$$\n",
    "\\mathrm{Var}[X] + \\mathbb{E}[X]^2 = \\mathbb{E}[X^2],\\quad \\hat{\\sigma}_n^2 + \\bar{X}_n^2 = \\frac{1}{n}\\sum_{i=1}^n X_i^2 .\n",
    "$$\n",
    "\n",
    "Now we easily see by solving that\n",
    "\n",
    "$$\n",
    "\\hat{\\alpha} = \\frac{\\bar{X}_n^2}{\\hat{\\sigma}_n^2},\\quad \\hat{\\beta} = \\frac{\\hat{\\sigma}_n^2}{\\bar{X}_n} .\n",
    "$$"
   ]
  },
  {
   "cell_type": "markdown",
   "metadata": {},
   "source": [
    "## Problem 2"
   ]
  },
  {
   "cell_type": "markdown",
   "metadata": {},
   "source": [
    "### (a)\n",
    "\n",
    "Let $X_1,\\ldots,X_n \\sim \\text{Uniform}[a,b]$.  The mean and the variance are\n",
    "\n",
    "$$\n",
    "\\mathbb{E}[X] = \\frac{a+b}{2},\\quad \\mathrm{Var}[X] = \\frac{(b-a)^2}{12}\n",
    "$$\n",
    "\n",
    "so the method of moment equations are\n",
    "\n",
    "$$\n",
    "\\bar{X}_n = \\frac{\\hat{a} + \\hat{b}}{2},\\quad \\hat{\\sigma}_n^2 = \\frac{(\\hat{b} - \\hat{a})^2}{12}\n",
    "$$\n",
    "\n",
    "First solve for $\\hat{a}$ with\n",
    "\n",
    "$$\n",
    "\\hat{a} = 2\\bar{X}_n - b, \n",
    "$$\n",
    "\n",
    "so that\n",
    "\n",
    "$$\n",
    "\\hat{\\sigma}^2_n = \\frac{(2\\hat{b} - 2\\bar{X}_n)^2}{12} = \\frac{(\\hat{b} - \\bar{X}_n)^2}{3},\n",
    "$$\n",
    "\n",
    "and therefore solving for $\\hat{b}$ and plugging back in to get $\\hat{a}$ gives\n",
    "\n",
    "$$\n",
    "\\hat{a}= \\bar{X}_n -\\sqrt{3}\\hat{\\sigma}_n  ,\\quad \\hat{b} = \\bar{X}_n + \\sqrt{3} \\hat{\\sigma}_n.\n",
    "$$"
   ]
  },
  {
   "cell_type": "markdown",
   "metadata": {},
   "source": [
    "### (b)\n",
    "\n",
    "The likelihood function for the data is\n",
    "\n",
    "$$\n",
    "L(a,b ; X_1,\\ldots,X_n) = \\prod_{i=1}^n \\frac{1}{b-a} \\mathbf{1}\\{X_i \\in [a,b]\\} = \\frac{1}{(b-a)^n} \\mathbf{1}\\{ a \\le \\min X_i,\\ \\max X_i \\le b\\} ,\n",
    "$$\n",
    "\n",
    "which is increasing in $a$ and decreasing in $b$ as long as $a < b$.  Moreover, we see that the largest value $a$ can take is $\\min X_i$ while the smallest value that $b$ can take without the likelihood being 0 is $\\max X_i$.  Therefore the maximum likelihood estimators are\n",
    "\n",
    "$$\n",
    "\\hat{a}_{\\mathrm{MLE}} = \\min\\{X_1,\\ldots,X_n\\}, \\quad \\hat{b}_{\\mathrm{MLE}} = \\max\\{X_1,\\ldots,X_n\\}.\n",
    "$$\n"
   ]
  },
  {
   "cell_type": "markdown",
   "metadata": {},
   "source": [
    "### (c)\n",
    "\n",
    "By the equivariance property of the maximum likelihood estimator we know that the maximum likelihood estimator of $\\mathbb{E}[X] = (a+b)/2$ is \n",
    "\n",
    "$$\n",
    "\\hat{\\tau} = \\frac{\\max\\{X_1,\\ldots,X_n\\} + \\min\\{X_1,\\ldots,X_n\\}}{2} .\n",
    "$$"
   ]
  },
  {
   "cell_type": "markdown",
   "metadata": {},
   "source": [
    "### (d)\n",
    "\n",
    "The plug-in estimator for the mean is\n",
    "\n",
    "$$\n",
    "\\tilde{\\tau} = \\bar{X}_n ,\n",
    "$$\n",
    "\n",
    "which is unbiased.  Therefore, the MSE is the variance\n",
    "\n",
    "$$\n",
    "\\mathrm{MSE}(\\tilde{\\tau}) = \\mathrm{Var}[\\tilde{\\tau}] = \\frac{\\mathrm{Var}[X_1]}{n} = \\frac{(b-a)^2}{12n} .\n",
    "$$\n",
    "\n",
    "In the case where $a=1,b=3$, and $n=10$, we can use this formula to compute the MSE exactly."
   ]
  },
  {
   "cell_type": "code",
   "execution_count": 16,
   "metadata": {},
   "outputs": [
    {
     "name": "stdout",
     "output_type": "stream",
     "text": [
      "Method       Mean Squared Error\n",
      "-------------------------------\n",
      "Plug-in         8.33e-03\n",
      "MLE             3.81e-03\n"
     ]
    }
   ],
   "source": [
    "# Set the parameters\n",
    "a = 1\n",
    "b = 2\n",
    "n = 10\n",
    "tau = (a+b)/2  # True mean\n",
    "\n",
    "# Estimate MSE of the MLE estimator through simulation\n",
    "trials = 100000\n",
    "tau_hat = np.zeros(trials)\n",
    "for i in range(trials):\n",
    "    X = a + (b-a)*np.random.rand(n)  # Generate n uniform[a,b] variables\n",
    "    tau_hat[i] = 0.5*(np.min(X) + np.max(X))\n",
    "\n",
    "# Estimate the MSE\n",
    "MSE_mle = np.mean((tau_hat - tau)**2)\n",
    "\n",
    "# Use the formula to compute the exact MSE for the nonparametric plug-in estimator\n",
    "MSE_plg = (b-a)**2/(12*n)\n",
    "\n",
    "# Print results\n",
    "print('Method       Mean Squared Error')\n",
    "print('-------------------------------')\n",
    "print('Plug-in         {:0.2e}'.format(MSE_plg))\n",
    "print('MLE             {:0.2e}'.format(MSE_mle))"
   ]
  },
  {
   "cell_type": "markdown",
   "metadata": {},
   "source": [
    "We see that the maximum likelihood estimate of the mean has lower MSE than the nonparametric plug-in estimator.  This is because for this particular problem, the maximum likelihood estimators converge extremely fast, at a rate of $O(1/n^2)$ in MSE, to their respective parameters."
   ]
  },
  {
   "cell_type": "markdown",
   "metadata": {},
   "source": [
    "## Problem 3"
   ]
  },
  {
   "cell_type": "markdown",
   "metadata": {},
   "source": [
    "### (a)\n",
    "\n",
    "Since $\\tau$ is the 95% percentile we know that\n",
    "\n",
    "$$\n",
    "0.95 = P(X < \\tau) = P\\left(  Z  < \\frac{\\tau - \\mu}{\\sigma} \\right) = \\Phi\\left( \\frac{\\tau - \\mu}{\\sigma} \\right)\n",
    "$$\n",
    "\n",
    "where $Z \\sim N(0,1)$ and $\\Phi$ is the CDF of the standard normal distribution.  Thus,\n",
    "\n",
    "$$\n",
    "\\tau = \\mu +  \\Phi^{-1}(0.95) \\sigma .\n",
    "$$\n",
    "\n",
    "We will use the equivariance property of the maximum likelihood estimator to obtain\n",
    "\n",
    "$$\n",
    "\\hat{\\tau} = \\hat{\\mu} + \\Phi^{-1}(0.95) \\hat{\\sigma},\n",
    "$$\n",
    "\n",
    "where\n",
    "\n",
    "$$\n",
    "\\hat{\\mu} = \\frac{1}{n}\\sum_{i=1}^n X_i,\\quad \\hat{\\sigma}^2 = \\frac{1}{n}\\sum_{i=1}^n (X_i - \\hat{\\mu})^2 .\n",
    "$$\n",
    "\n",
    "To see that these are the maximum likelihood estimators start by writing down the likelihood function\n",
    "\n",
    "$$\n",
    "L(\\mu, \\sigma^2; X_1,\\ldots,X_n) = \\prod_{i=1}^n \\frac{1}{\\sqrt{2\\pi \\sigma^2}} \\exp\\left( -\\frac{1}{2\\sigma^2}(X_i - \\mu)^2 \\right) = \\frac{1}{\\sqrt{2\\pi} \\sigma^{n}} \\exp\\left( -\\frac{1}{2\\sigma^2}\\sum_{i=1}^n (X_i - \\mu)^2 \\right) .\n",
    "$$\n",
    "\n",
    "The log-likelihood becomes\n",
    "\n",
    "$$\n",
    "\\log L(\\mu, \\sigma^2; X_1,\\ldots,X_n) = -\\frac{1}{2}\\log(2\\pi) - \\frac{n}{2}\\log(\\sigma^2) - \\frac{1}{2\\sigma^2}\\sum_{i=1}^n (X_i - \\mu)^2 .\n",
    "$$\n",
    "\n",
    "The derivatives with respect to $\\mu$ and $\\sigma^2$ are \n",
    "\n",
    "$$\n",
    "\\frac{\\partial}{\\partial \\mu}\\log L(\\mu, \\sigma^2; X_1,\\ldots,X_n) = \\frac{1}{\\sigma^2} \\sum_{i=1}^n (X_i - \\mu),\n",
    "$$\n",
    "\n",
    "and\n",
    "\n",
    "$$\n",
    "\\frac{\\partial}{\\partial \\sigma^2}\\log L(\\mu, \\sigma^2; X_1,\\ldots,X_n) = -\\frac{n}{2\\sigma^2} + \\frac{1}{2\\sigma^4}\\sum_{i=1}^n (X_i - \\mu)^2 .\n",
    "$$\n",
    "\n",
    "From here we can set these derivatives to zero to find that $(\\hat{\\mu}, \\hat{\\sigma}^2)$ is a critical point of the log-likelihood.  To ensure that this point is the maximum likelihood estimator we also need to perform a second derivative test by looking at the matrix of second derivatives.  We have that\n",
    "\n",
    "$$\n",
    "\\frac{\\partial^2}{\\partial \\mu^2}\\log L(\\mu, \\sigma^2; X_1,\\ldots,X_n) = \\frac{-n}{\\sigma^2} ,\n",
    "$$\n",
    "\n",
    "$$\n",
    "\\frac{\\partial^2}{\\partial (\\sigma^2)^2}\\log L(\\mu, \\sigma^2; X_1,\\ldots,X_n) = \\frac{n}{2\\sigma^4} - \\frac{1}{\\sigma^6}\\sum_{i=1}^n (X_i - \\mu)^2 ,\n",
    "$$\n",
    "\n",
    "and\n",
    "\n",
    "$$\n",
    "\\frac{\\partial^2}{\\partial \\mu \\partial \\sigma^2}\\log L(\\mu, \\sigma^2; X_1,\\ldots,X_n) = -\\frac{1}{\\sigma^4} \\sum_{i=1}^n (X_i - \\mu) .\n",
    "$$\n",
    "\n",
    "The Hessian matrix of second derivatives at the MLE is\n",
    "\n",
    "$$\n",
    "\\nabla \\nabla^\\top \\log L(\\hat{\\mu}, \\hat{\\sigma}^2; X_1,\\ldots,X_n)\n",
    "= \\begin{bmatrix}\n",
    "-n/\\hat{\\sigma}^2 & 0\\\\\n",
    "0 & -n/(2\\hat{\\sigma}^4) \n",
    "\\end{bmatrix},\n",
    "$$\n",
    "\n",
    "which is negative definite.  Therefore, $(\\hat{\\mu},\\hat{\\sigma})$ is indeed the maximum likelihood estimator."
   ]
  },
  {
   "cell_type": "markdown",
   "metadata": {},
   "source": [
    "### (b)\n",
    "\n",
    "To find an approximate $1-\\alpha$ confidence interval for $\\tau$ we will start by finding the asymptotic distribution of the MLE $\\hat{\\tau}$ by using the fact that the MLE is asymptotically normal and then applying the multivariate delta method.  To start we derive the Fisher information matrix by reusing the second derivatives we computed in the previous part.\n",
    "\n",
    "$$\n",
    "I_n(\\mu, \\sigma^2) = \\begin{bmatrix}\n",
    "n/\\sigma^2 & 0\\\\\n",
    "0 & n/(2\\sigma^4)\n",
    "\\end{bmatrix}\n",
    "$$\n",
    "\n",
    "where we have used the facts that\n",
    "\n",
    "$$\n",
    "\\mathbb{E}\\left[ \\sum_{i=1}^n (X_i - \\mu) \\right] = 0,\\quad \\mathbb{E}\\left[\\frac{1}{n}\\sum_{i=1}^n (X_i - \\mu)^2\\right] = \\sigma^2 .\n",
    "$$\n",
    "\n",
    "Now define the function \n",
    "\n",
    "$$\n",
    "g(x,y) = x + \\Phi^{-1}(0.95) \\sqrt{y} ,\n",
    "$$\n",
    "\n",
    "which has the gradient\n",
    "\n",
    "$$\n",
    "\\nabla g(x,y) = \\begin{bmatrix}\n",
    "1 \\\\\n",
    "\\Phi^{-1}(0.95)/(2\\sqrt{y})\n",
    "\\end{bmatrix}\n",
    "$$\n",
    "\n",
    "Therefore, the multivariate delta method implies that the asymptotic distribution for $\\hat{\\tau}$ is\n",
    "\n",
    "$$\n",
    "\\hat{\\tau} \\approx N\\left( g(\\mu, \\sigma^2),\\  \\nabla g(\\mu,\\sigma^2)^\\top I_n(\\mu,\\sigma^2)^{-1} \\nabla g(\\mu, \\sigma^2) \\right) .\n",
    "$$\n",
    "\n",
    "Since $g(\\mu,\\sigma^2) = \\tau$ and $I_n$ is a diagonal matrix, which can easily be inverted, we have that\n",
    "\n",
    "$$\n",
    "\\hat{\\tau} \\approx N\\left( \\tau,\\ \\frac{\\sigma^2}{n}\\left( 1 + \\frac{1}{2}\\Phi^{-1}(0.95)^2\\right) \\right) ,\n",
    "$$\n",
    "\n",
    "and therefore an approximate $1-\\alpha$ confidence interval for $\\tau$ is \n",
    "\n",
    "$$\n",
    "\\hat{\\tau} \\pm \\Phi^{-1}\\left(1-\\frac{\\alpha}{2}\\right) \\frac{\\hat{\\sigma}}{\\sqrt{n}} \\sqrt{ 1 + \\frac{1}{2}\\Phi^{-1}(0.95)^2} .\n",
    "$$"
   ]
  },
  {
   "cell_type": "markdown",
   "metadata": {},
   "source": [
    "### (c)"
   ]
  },
  {
   "cell_type": "code",
   "execution_count": 17,
   "metadata": {},
   "outputs": [],
   "source": [
    "# Input the data\n",
    "X = np.array([\n",
    "    3.23, -2.5, 1.88, -0.68, 4.43, 0.17,\n",
    "    1.03, -0.07, -0.01, 0.76, 1.76, 3.18,\n",
    "    0.33, -0.31, 0.3, -0.61, 1.52, 5.43,\n",
    "    1.54, 2.28, 0.42, 2.33, -1.03, 4., 0.39\n",
    "])"
   ]
  },
  {
   "cell_type": "code",
   "execution_count": 18,
   "metadata": {},
   "outputs": [
    {
     "name": "stdout",
     "output_type": "stream",
     "text": [
      "Tau MLE = 4.180\n",
      "--------------------------------------------\n",
      "Std. Err. Delta Method         = 5.58e-01\n",
      "Std. Err. Parametric Bootstrap = 5.58e-01\n"
     ]
    }
   ],
   "source": [
    "# Get the sample size\n",
    "n = X.shape[0]\n",
    "\n",
    "# Compute the MLE\n",
    "mu_hat = np.mean(X)\n",
    "sigma_hat = np.std(X)\n",
    "phi95 = stats.norm.ppf(0.95)\n",
    "tau_hat = mu_hat + phi95*sigma_hat\n",
    "\n",
    "# Compute the standard error using the delta method asymptotic expression \n",
    "se_delta = np.sqrt(1 + 0.5*phi95**2)*sigma_hat/np.sqrt(n)\n",
    "\n",
    "# Compute the standard error using the parametric bootstrap\n",
    "B = int(1e4)\n",
    "tboot = np.zeros(B)\n",
    "for i in range(B):\n",
    "    Xb = mu_hat + sigma_hat*np.random.randn(n)\n",
    "    tboot[i] = np.mean(Xb) + phi95*np.std(Xb)\n",
    "se_boot = np.std(tboot)\n",
    "\n",
    "# Print results\n",
    "print('Tau MLE = {:0.3f}'.format(tau_hat))\n",
    "print('--------------------------------------------')\n",
    "print('Std. Err. Delta Method         = {:0.2e}'.format(se_delta))\n",
    "print('Std. Err. Parametric Bootstrap = {:0.2e}'.format(se_boot))"
   ]
  },
  {
   "cell_type": "markdown",
   "metadata": {},
   "source": [
    "Since we obtain similar results for the standard errors for both methods, this leads us to believe that our expression for the standard error was derived correctly."
   ]
  },
  {
   "cell_type": "markdown",
   "metadata": {},
   "source": [
    "## Problem 5"
   ]
  },
  {
   "cell_type": "markdown",
   "metadata": {},
   "source": [
    "Let $X_1,\\ldots,X_n \\sim \\text{Poisson}(\\lambda)$ be i.i.d.  The mean of the Poisson distribution is $\\lambda$, and so the method of moments estimator is simply\n",
    "\n",
    "$$\n",
    "\\hat{\\lambda}_{\\mathrm{MOM}} = \\bar{X}_n  .\n",
    "$$\n",
    "\n",
    "For the maximum likelihood estimator, start by writing down the likelihood function\n",
    "\n",
    "$$\n",
    "L(\\lambda; X_1,\\ldots,X_n) = \\prod_{i=1}^n \\frac{\\lambda^{X_i} e^{-\\lambda}}{X_i!} = \\frac{\\lambda^{\\sum_{i=1}^n X_i} e^{-\\lambda n}}{\\prod_{i=1}^n X_i !} .\n",
    "$$\n",
    "\n",
    "The log-likelihood is\n",
    "\n",
    "$$\n",
    "\\log L(\\lambda; X_1,\\ldots, X_n) = \\log(\\lambda) \\sum_{i=1}^n X_i - \\lambda n - \\log\\left( \\prod_{i=1}^n X_i! \\right).\n",
    "$$\n",
    "\n",
    "The derivative of the log-likelihood is\n",
    "\n",
    "$$\n",
    "\\frac{\\partial}{\\partial \\lambda}\\log L(\\lambda; X_1,\\ldots, X_n) = \\frac{1}{\\lambda} \\sum_{i=1}^n X_i - n .\n",
    "$$\n",
    "\n",
    "Setting the derivative to zero and solving gives the maximum likelihood estimator\n",
    "\n",
    "$$\n",
    "\\hat{\\lambda}_{\\mathrm{MLE}} = \\bar{X}_n . \n",
    "$$\n",
    "\n",
    "To see that this is indeed a maximizer of the log-likelihood we employ the second derivative test.\n",
    "\n",
    "$$\n",
    "\\frac{\\partial^2}{\\partial \\lambda^2} \\log L(\\lambda; X_1,\\ldots, X_n) = -\\frac{1}{\\lambda^2} \\sum_{i=1}^n X_i ,\n",
    "$$\n",
    "\n",
    "which is negative and therefore $\\hat{\\lambda}_{\\mathrm{MLE}}$ is indeed the maximum likelihood estimate.  Finally, we can easily compute the Fisher information since we already have the second derivative.\n",
    "\n",
    "$$\n",
    "I_n(\\lambda) = \\mathbb{E}\\left[-\\frac{\\partial^2}{\\partial \\lambda^2} \\log L(\\lambda; X_1,\\ldots, X_n)\\right] = \\frac{1}{\\lambda^2}\\mathbb{E}\\left[\\sum_{i=1}^n X_i \\right] = \\frac{n}{\\lambda} .\n",
    "$$"
   ]
  },
  {
   "cell_type": "markdown",
   "metadata": {},
   "source": [
    "# Additional Problems"
   ]
  },
  {
   "cell_type": "markdown",
   "metadata": {},
   "source": [
    "## Problem 1"
   ]
  },
  {
   "cell_type": "code",
   "execution_count": 19,
   "metadata": {},
   "outputs": [],
   "source": [
    "# Set the parameters\n",
    "B = 1000      # number of bootstrap replicates\n",
    "gamma = 0.1   # model parameter\n",
    "Ne = 1000     # number of experiments\n",
    "\n",
    "# Exact correlation\n",
    "rho_exact = (2*gamma)/(1+gamma**2)"
   ]
  },
  {
   "cell_type": "code",
   "execution_count": 20,
   "metadata": {},
   "outputs": [],
   "source": [
    "def sample_data(n, gamma, Ne):\n",
    "    \"\"\"\n",
    "    Helper method to sample data X and Y.\n",
    "    \"\"\"\n",
    "    W = np.random.randn(Ne, n)  # Rows correspond to different experiments\n",
    "    Z = np.random.randn(Ne, n)\n",
    "    X = W + gamma*Z\n",
    "    Y = Z + gamma*W\n",
    "    return (X, Y)"
   ]
  },
  {
   "cell_type": "code",
   "execution_count": 21,
   "metadata": {},
   "outputs": [],
   "source": [
    "def compute_rho_hat(X, Y):\n",
    "    \"\"\"\n",
    "    Compute rho_hat for each experiment.\n",
    "    X, Y have shape (Ne, n)\n",
    "    Returns a vector of shape (Ne,)\n",
    "    \"\"\"\n",
    "    # Estimated correlation for each each experiment (vector of length Ne)\n",
    "    rho_hat = np.mean(X*Y, axis=1) / np.sqrt( np.mean(X*X, axis=1) * np.mean(Y*Y, axis=1) )\n",
    "    return rho_hat"
   ]
  },
  {
   "cell_type": "code",
   "execution_count": 22,
   "metadata": {},
   "outputs": [],
   "source": [
    "def bias_corrected_rho(X, Y, B):\n",
    "    \"\"\"\n",
    "    Estimate the bias-corrected correlation coefficient using B bootstrap replicates.\n",
    "    \n",
    "    Note that here X and Y have shape (n,) and the output is a float.\n",
    "    \"\"\"\n",
    "    # Get sample size\n",
    "    n = X.shape[0]\n",
    "    # Compute the plug-in estimate\n",
    "    rho_hat = np.mean(X*Y) / np.sqrt( np.mean(X*X) * np.mean(Y*Y) )\n",
    "    \n",
    "    # Pre-allocate space for bootstrap samples\n",
    "    rho_boot = np.zeros(B)\n",
    "    for b in range(B):\n",
    "        # Get random indices to resample at, ensure that indices for X,Y are the same\n",
    "        idx = np.random.choice(n, n)\n",
    "        # Resample data\n",
    "        Xb = X[idx]\n",
    "        Yb = Y[idx] \n",
    "        # Compute bootstrap replicate\n",
    "        rho_boot[b] = np.mean(Xb*Yb) / np.sqrt( np.mean(Xb*Xb) * np.mean(Yb*Yb) )\n",
    "    \n",
    "    # Return the bias-corrected rho\n",
    "    return 2*rho_hat - np.mean(rho_boot)"
   ]
  },
  {
   "cell_type": "code",
   "execution_count": 27,
   "metadata": {},
   "outputs": [],
   "source": [
    "def compute_rho_boot(X, Y, B):\n",
    "    \"\"\"\n",
    "    Helper method to compute the bias corrected rho for many experiments.\n",
    "    \"\"\"\n",
    "    Ne = X.shape[0]\n",
    "    # Perform Ne experiments\n",
    "    rho_boot = np.zeros(Ne)\n",
    "    for i in range(Ne):\n",
    "        rho_boot[i] = bias_corrected_rho(X[i], Y[i], B)\n",
    "    return rho_boot"
   ]
  },
  {
   "cell_type": "code",
   "execution_count": 28,
   "metadata": {},
   "outputs": [],
   "source": [
    "# Wrap everything into the following function.\n",
    "def estimate_bias_RMSE(n, gamma, B, Ne, rho_exact):\n",
    "    X, Y = sample_data(n, gamma, Ne)\n",
    "    # Compute the plug-in and bias corrected bootstrap estimators\n",
    "    rho_hat  = compute_rho_hat(X, Y)\n",
    "    rho_boot = compute_rho_boot(X, Y, B)\n",
    "    # Estimate the bias of each method\n",
    "    bias = np.zeros(2)\n",
    "    rmse = np.zeros(2)\n",
    "    bias[0] = np.mean(rho_hat) - rho_exact\n",
    "    bias[1] = np.mean(rho_boot) - rho_exact\n",
    "    rmse[0] = np.sqrt(np.mean((rho_hat - rho_exact)**2))\n",
    "    rmse[1] = np.sqrt(np.mean((rho_boot - rho_exact)**2))\n",
    "    return (bias, rmse)"
   ]
  },
  {
   "cell_type": "code",
   "execution_count": 30,
   "metadata": {},
   "outputs": [
    {
     "name": "stdout",
     "output_type": "stream",
     "text": [
      "10\n",
      "15\n",
      "25\n",
      "50\n",
      "100\n",
      "250\n"
     ]
    }
   ],
   "source": [
    "# Compute the bias and rmse over many experiments for different sample sizes\n",
    "nlist = [10, 15, 25, 50, 100, 250]\n",
    "\n",
    "bias = np.zeros((len(nlist), 2))\n",
    "rmse = np.zeros((len(nlist), 2))\n",
    "\n",
    "for i in range(len(nlist)):\n",
    "    n = nlist[i]\n",
    "    bias[i], rmse[i] = estimate_bias_RMSE(i, gamma, B, Ne, rho_exact)\n",
    "    print(n) # Print n to keep track of progress"
   ]
  },
  {
   "cell_type": "code",
   "execution_count": 31,
   "metadata": {},
   "outputs": [
    {
     "data": {
      "image/png": "[encoded data removed]",
      "text/plain": [
       "<Figure size 720x288 with 2 Axes>"
      ]
     },
     "metadata": {
      "needs_background": "light"
     },
     "output_type": "display_data"
    }
   ],
   "source": [
    "fig, ax = plt.subplots(1, 2, sharex=True, figsize=(10,4))\n",
    "ax[0].semilogx(nlist, bias[:,0], c='b', marker='o', label='$\\hat{\\\\rho}$')\n",
    "ax[0].semilogx(nlist, bias[:,1], c='r', marker='s', label='$\\hat{\\\\rho}_{\\mathrm{boot}}$')\n",
    "ax[0].legend()\n",
    "ax[0].set_xlabel('$n$')\n",
    "ax[0].set_ylabel('Bias')\n",
    "ax[0].grid()\n",
    "\n",
    "\n",
    "ax[1].semilogx(nlist, rmse[:,0], c='b', marker='o', label='$\\hat{\\\\rho}$')\n",
    "ax[1].semilogx(nlist, rmse[:,1], c='r', marker='s', label='$\\hat{\\\\rho}_{\\mathrm{boot}}$')\n",
    "ax[1].legend()\n",
    "ax[1].set_xlabel('$n$')\n",
    "ax[1].set_ylabel('RMSE')\n",
    "ax[1].grid()\n",
    "\n",
    "plt.tight_layout()"
   ]
  },
  {
   "cell_type": "markdown",
   "metadata": {},
   "source": [
    "We see that as we increase the sample size $n$, the RMSE decreases towards 0.  Moreover, the plug-in estimator performs slightly better than the bias-corrected bootstrap estimator in terms of RMSE, although it indeed has a larger bias."
   ]
  },
  {
   "cell_type": "code",
   "execution_count": null,
   "metadata": {},
   "outputs": [],
   "source": []
  }
 ],
 "metadata": {
  "kernelspec": {
   "display_name": "Python 3",
   "language": "python",
   "name": "python3"
  },
  "language_info": {
   "codemirror_mode": {
    "name": "ipython",
    "version": 3
   },
   "file_extension": ".py",
   "mimetype": "text/x-python",
   "name": "python",
   "nbconvert_exporter": "python",
   "pygments_lexer": "ipython3",
   "version": "3.8.5"
  }
 },
 "nbformat": 4,
 "nbformat_minor": 5
}
