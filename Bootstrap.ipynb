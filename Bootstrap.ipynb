{
 "cells": [
  {
   "cell_type": "markdown",
   "metadata": {},
   "source": [
    "# Parametric vs. Nonparametric Bootstrap\n",
    "\n",
    "Suppose we are at the W4 St station waiting on the A train to go uptown.  The amount of time between trains can be modeled as a random variable $X$ with an exponential distribution \n",
    "$$\n",
    "f(x;\\ \\theta) = \\frac{1}{\\theta} e^{-x/\\theta},\\quad x \\ge 0\n",
    "$$\n",
    "with $\\theta$ being the average wait time in minutes.  We want to know how long we will have to wait for the train to come and maybe get an estimate of a reasonable time interval.  This is a statistical inference problem though!\n",
    "\n",
    "\n",
    "1. The average time between trains is $\\theta$, so really we want to estimate the value of $\\theta$.\n",
    "\n",
    "2. A reasonable time interval is just a confidence interval around our estimate of $\\theta$.\n",
    "\n",
    "\n",
    "To estimate $\\theta$ you'll need some data.  Since you are really dedicated to solving this problem you go sit on the platform all day and measure the time between trains.  You collect the following 100 data points."
   ]
  },
  {
   "cell_type": "code",
   "execution_count": 1,
   "metadata": {},
   "outputs": [
    {
     "name": "stdout",
     "output_type": "stream",
     "text": [
      "x1 = 0.3175\n",
      "x2 = 6.0550\n",
      "x3 = 2.3079\n",
      "x4 = 5.1417\n",
      "x5 = 15.2649\n",
      "x6 = 3.0931\n",
      "x7 = 2.7816\n",
      "x8 = 0.2991\n",
      "x9 = 1.2503\n",
      "x10 = 2.7716\n",
      "x11 = 4.5481\n",
      "x12 = 6.5132\n",
      "x13 = 1.9182\n",
      "x14 = 0.2728\n",
      "x15 = 1.3595\n",
      "x16 = 9.6138\n",
      "x17 = 0.9601\n",
      "x18 = 2.4068\n",
      "x19 = 10.7066\n",
      "x20 = 0.1009\n",
      "x21 = 3.6707\n",
      "x22 = 11.9933\n",
      "x23 = 1.0470\n",
      "x24 = 3.1806\n",
      "x25 = 9.5932\n",
      "x26 = 0.5716\n",
      "x27 = 2.9644\n",
      "x28 = 5.5517\n",
      "x29 = 4.4227\n",
      "x30 = 2.5226\n",
      "x31 = 0.9169\n",
      "x32 = 2.6994\n",
      "x33 = 1.8633\n",
      "x34 = 2.5958\n",
      "x35 = 1.8221\n",
      "x36 = 7.2786\n",
      "x37 = 5.8553\n",
      "x38 = 1.5075\n",
      "x39 = 3.4004\n",
      "x40 = 1.2921\n",
      "x41 = 2.4121\n",
      "x42 = 1.7415\n",
      "x43 = 4.2848\n",
      "x44 = 1.8504\n",
      "x45 = 2.4580\n",
      "x46 = 5.0822\n",
      "x47 = 2.1309\n",
      "x48 = 9.4759\n",
      "x49 = 0.7960\n",
      "x50 = 5.4055\n",
      "x51 = 2.1953\n",
      "x52 = 2.2237\n",
      "x53 = 4.0246\n",
      "x54 = 2.9602\n",
      "x55 = 2.1438\n",
      "x56 = 0.0057\n",
      "x57 = 0.3872\n",
      "x58 = 4.9432\n",
      "x59 = 2.9723\n",
      "x60 = 4.7650\n",
      "x61 = 12.4462\n",
      "x62 = 4.5943\n",
      "x63 = 0.2184\n",
      "x64 = 1.4776\n",
      "x65 = 3.5918\n",
      "x66 = 1.0721\n",
      "x67 = 13.4063\n",
      "x68 = 11.6052\n",
      "x69 = 7.5461\n",
      "x70 = 2.5571\n",
      "x71 = 7.3674\n",
      "x72 = 0.5622\n",
      "x73 = 1.4769\n",
      "x74 = 2.4870\n",
      "x75 = 5.4168\n",
      "x76 = 2.6608\n",
      "x77 = 0.5888\n",
      "x78 = 1.6836\n",
      "x79 = 1.5688\n",
      "x80 = 1.4291\n",
      "x81 = 0.7237\n",
      "x82 = 2.1439\n",
      "x83 = 2.3777\n",
      "x84 = 5.9648\n",
      "x85 = 6.3662\n",
      "x86 = 2.9558\n",
      "x87 = 2.4694\n",
      "x88 = 6.0242\n",
      "x89 = 8.7317\n",
      "x90 = 4.4947\n",
      "x91 = 6.4473\n",
      "x92 = 11.1948\n",
      "x93 = 0.1660\n",
      "x94 = 8.3393\n",
      "x95 = 1.2950\n",
      "x96 = 2.5833\n",
      "x97 = 6.3735\n",
      "x98 = 5.0527\n",
      "x99 = 0.6367\n",
      "x100 = 4.3005\n"
     ]
    }
   ],
   "source": [
    "from scipy.stats import expon        # So we can use the exponential distribution in Python.\n",
    "import numpy as np                   # So we can do numerical calculations.\n",
    "from matplotlib import pyplot as plt # So we can plot our results.\n",
    "np.random.seed(7)                    # Setting a random number seed.\n",
    "\n",
    "\n",
    "n = 100 # Number of trains you observe.\n",
    "data = expon.rvs(size = n, scale = 4.0)\n",
    "\n",
    "for i in range(n):\n",
    "    print(\"x{:d} = {:0.4f}\".format(i + 1, data[i]))"
   ]
  },
  {
   "cell_type": "code",
   "execution_count": 2,
   "metadata": {},
   "outputs": [
    {
     "data": {
      "image/png": "[encoded data removed]",
      "text/plain": [
       "<Figure size 432x288 with 1 Axes>"
      ]
     },
     "metadata": {
      "needs_background": "light"
     },
     "output_type": "display_data"
    }
   ],
   "source": [
    "# Here's a histogram of the data.\n",
    "\n",
    "plt.figure(1)\n",
    "plt.title(\"Histogram of wait times\")\n",
    "plt.xlabel('Waiting time')\n",
    "plt.ylabel('Count')\n",
    "plt.hist(data);"
   ]
  },
  {
   "cell_type": "markdown",
   "metadata": {},
   "source": [
    "## Estimating $\\theta$\n",
    "\n",
    "We need to decide on a method for estimating the value of $\\theta$ given our data.  We could use method of moments, or maximum likelihood, or some other method.  Let's use MLE here.  Remember that the MLE for the parameter in an exponential distribution is\n",
    "$$\n",
    "\\hat{\\theta}_{\\mathrm{MLE}} = \\frac{1}{n}\\sum_{i=1}^n X_i\n",
    "$$\n",
    "(The method of moments estimator is actually the same thing in this example).  All we need to do to estimate $\\beta$ is to take the average of the data we observed."
   ]
  },
  {
   "cell_type": "code",
   "execution_count": 3,
   "metadata": {},
   "outputs": [
    {
     "name": "stdout",
     "output_type": "stream",
     "text": [
      "MLE = 3.8709\n"
     ]
    }
   ],
   "source": [
    "mle = np.mean(data)\n",
    "print(\"MLE = {:0.4f}\".format(mle))"
   ]
  },
  {
   "cell_type": "markdown",
   "metadata": {},
   "source": [
    "Great!  Now we know that the trains arrive on average every $3.8$ minutes (roughly 3 minutes and 48 seconds).  But trains don't arrive exactly every $3.8$ minutes so how accurate is our estimate?  To answer this question we'll use a 68% confidence interval (i.e. $\\pm 1$ standard error).  Our estimate depends on the data we observed, but say we went on a different day and measured 100 more waiting times.  Then we would get a different estimate for $\\hat{\\theta}_{\\mathrm{MLE}}$.  Let's simulate what would happen if we did this experiment say 365 times (we spent a whole year recording data)."
   ]
  },
  {
   "cell_type": "code",
   "execution_count": 4,
   "metadata": {},
   "outputs": [
    {
     "data": {
      "image/png": "[encoded data removed]",
      "text/plain": [
       "<Figure size 432x288 with 1 Axes>"
      ]
     },
     "metadata": {
      "needs_background": "light"
     },
     "output_type": "display_data"
    }
   ],
   "source": [
    "m = 365 # Number of times we do the experiment.\n",
    "\n",
    "trials = np.zeros(m) # Some place to keep track of our experiments.\n",
    "for i in range(m):\n",
    "    new_data = expon.rvs(size = n, scale = 4.0)\n",
    "    trials[i] = np.mean(new_data)\n",
    "\n",
    "# Here's a histogram of all the different estimates we could have gotten.  Look familiar?\n",
    "plt.figure(2)\n",
    "plt.hist(trials)\n",
    "plt.xlabel('MLE estimates of $\\\\theta$')\n",
    "plt.ylabel('Count')\n",
    "plt.title('Histogram of the MLE estimates');"
   ]
  },
  {
   "cell_type": "markdown",
   "metadata": {},
   "source": [
    "It looks like a normal distribution centered around the true value of $\\theta$.  This is because of the central limit theorem and is the whole idea behind asymptotic normality and consistency.  Depending on which day we came to collect our data we will get a different estimate according to this distribution.  The standard error of the estimate we got is just the standard deviation of this distribution."
   ]
  },
  {
   "cell_type": "markdown",
   "metadata": {},
   "source": [
    "## Bootstrap\n",
    "\n",
    "Sitting for hours in the subway every day for a year, just to get an idea of how accuarate our estimate is, is not ideal.  Instead, let's just use the bootstrap.  We'll use $B = 365$ bootstrap replicates so it'll be just like if we came to the subway everyday for a year.  Let's start with the non-parametric bootstrap."
   ]
  },
  {
   "cell_type": "markdown",
   "metadata": {},
   "source": [
    "## Non-parametric bootstrap\n",
    "\n",
    "The non-parametric bootstrap does not use any assumptions about our data and instead just resamples (with replacement) from the dataset we already worked so hard to collect.  Here's how it works."
   ]
  },
  {
   "cell_type": "code",
   "execution_count": 5,
   "metadata": {},
   "outputs": [
    {
     "name": "stdout",
     "output_type": "stream",
     "text": [
      "Nonparametric Bootstrap SE estimate = 0.3257\n"
     ]
    },
    {
     "data": {
      "image/png": "[encoded data removed]",
      "text/plain": [
       "<Figure size 432x288 with 1 Axes>"
      ]
     },
     "metadata": {
      "needs_background": "light"
     },
     "output_type": "display_data"
    }
   ],
   "source": [
    "np.random.seed(7)\n",
    "\"\"\"\n",
    "Here's a method to draw n samples from our dataset with replacement.\n",
    "\n",
    "Why is replacement important?  Because we want our resampled data to be iid.\n",
    "\"\"\"\n",
    "def resample(data, n):\n",
    "    resampled_data = np.zeros(n)\n",
    "    for i in range(n):\n",
    "        random_index = np.random.randint(len(data)) # Get a random data point index.\n",
    "        resampled_data[i] = data[random_index]\n",
    "    return resampled_data\n",
    "    \n",
    "\n",
    "B = 365 # The number of bootstrap replicates.\n",
    "\n",
    "replicates = np.zeros(B) # A place to store the results.\n",
    "for b in range(B):\n",
    "    # First resample the data.\n",
    "    resampled_data = resample(data, n)\n",
    "    # Compute the replicate estimate.\n",
    "    replicates[b] = np.mean(resampled_data) # We are computing the MLE for the new data here.\n",
    "\n",
    "# Here's a histrogram of the replicates.\n",
    "plt.figure(3)\n",
    "plt.hist(replicates)\n",
    "plt.xlabel('Replicates of the MLE')\n",
    "plt.ylabel('Count')\n",
    "plt.title('Histogram of the non-parametric bootstrap replicates');\n",
    "    \n",
    "# Now use the formula to get the bootstrap estimate of the standard error.\n",
    "se_nonparametric = np.std(replicates)\n",
    "print('Nonparametric Bootstrap SE estimate = {:0.4f}'.format(se_nonparametric))"
   ]
  },
  {
   "cell_type": "markdown",
   "metadata": {},
   "source": [
    "Now we have some idea of how accurate our MLE was and we can say that a 68% confidence interval for the average wait time in minutes is \n",
    "$$\n",
    "3.87 \\pm 0.33\n",
    "$$\n",
    "For reference, our estimate is off by about 20 seconds, so not bad."
   ]
  },
  {
   "cell_type": "markdown",
   "metadata": {},
   "source": [
    "## Parametric Bootstrap\n",
    "\n",
    "The non-parametric bootstrap doesn't make any assumptions about the data.  However, we know that the data actually follows and exponential distribution.  The parametric bootstrap takes advantage of this."
   ]
  },
  {
   "cell_type": "code",
   "execution_count": 6,
   "metadata": {},
   "outputs": [
    {
     "name": "stdout",
     "output_type": "stream",
     "text": [
      "Parametric Bootstrap SE estimate = 0.3564\n"
     ]
    },
    {
     "data": {
      "image/png": "[encoded data removed]",
      "text/plain": [
       "<Figure size 432x288 with 1 Axes>"
      ]
     },
     "metadata": {
      "needs_background": "light"
     },
     "output_type": "display_data"
    }
   ],
   "source": [
    "np.random.seed(7)\n",
    "B = 365\n",
    "replicates = np.zeros(B)\n",
    "for b in range(B):\n",
    "    resampled_data = expon.rvs(size = n, scale = mle)\n",
    "    replicates[b] = np.mean(resampled_data)\n",
    "\n",
    "# Here's a histrogram of the replicates.\n",
    "plt.figure(4)\n",
    "plt.hist(replicates)\n",
    "plt.xlabel('Replicates of the MLE')\n",
    "plt.ylabel('Count')\n",
    "plt.title('Histogram of the parametric bootstrap replicates');\n",
    "    \n",
    "# Now use the formula to get the bootstrap estimate of the standard error.\n",
    "se_parametric = np.std(replicates)\n",
    "print('Parametric Bootstrap SE estimate = {:0.4f}'.format(se_parametric))"
   ]
  },
  {
   "cell_type": "markdown",
   "metadata": {},
   "source": [
    "Exactly as we did for the non-parametric bootstrap, we can say that a 68% confidence interval for the average wait time in minutes is \n",
    "$$\n",
    "3.87 \\pm 0.36\n",
    "$$\n",
    "Both estimates of the standard error are pretty close to each other and would become exactly equal when we take the limit $n,B \\to \\infty$."
   ]
  },
  {
   "cell_type": "markdown",
   "metadata": {},
   "source": [
    "## So what is the true variance?\n",
    "\n",
    "Since $n = 100$ is fairly large we can use a normal approximation (the histograms look like normal distributions anyways).  The standard error of the MLE is\n",
    "$$\n",
    "\\mathrm{se}(\\hat{\\theta}_{\\mathrm{MLE}}) \\approx \\sqrt{\\frac{\\mathrm{Var}(X_1)}{n}} = \\sqrt{\\frac{\\theta^2}{n}} = \\frac{\\theta}{\\sqrt{n}} \n",
    "$$\n",
    "since the variance of the exponential distribution is $\\theta^2$.  The true value of $\\theta$, which was unknown to us, was $\\theta = 4$.  Since $n = 100$, the true standard error was actually $\\mathrm{se}(\\hat{\\theta}_{\\mathrm{MLE}}) \\approx 0.4$, which is roughly the same as our estimates."
   ]
  },
  {
   "cell_type": "code",
   "execution_count": null,
   "metadata": {},
   "outputs": [],
   "source": []
  }
 ],
 "metadata": {
  "kernelspec": {
   "display_name": "Python 3",
   "language": "python",
   "name": "python3"
  },
  "language_info": {
   "codemirror_mode": {
    "name": "ipython",
    "version": 3
   },
   "file_extension": ".py",
   "mimetype": "text/x-python",
   "name": "python",
   "nbconvert_exporter": "python",
   "pygments_lexer": "ipython3",
   "version": "3.8.5"
  }
 },
 "nbformat": 4,
 "nbformat_minor": 2
}
