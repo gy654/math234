{
 "cells": [
  {
   "cell_type": "markdown",
   "metadata": {},
   "source": [
    "Chapter9 Exercise7(d)"
   ]
  },
  {
   "cell_type": "markdown",
   "metadata": {},
   "source": [
    "(d) find an approximate 90 percent confidence interval for $\\psi$ using the parametric bootstrap\n",
    "\n",
    "$n_{1}=n_{2}=200, X_{1}=160, X_{2}=148$\n",
    "\n",
    "$X_{1}$~$Binomial(n_{1}, \\frac{X_{1}}{n1})= Binomial (200, 0.8)$\n",
    "\n",
    "$X_{2}$~$Binomial(n_{2}, \\frac{X_{2}}{n2})= Binomial (200, 0.74)$\n",
    "\n",
    "$\\hat{\\psi} = \\frac{X_{1}}{n_{1}}-\\frac{X_{2}}{n_{2}}= 0.06$"
   ]
  },
  {
   "cell_type": "code",
   "execution_count": 1,
   "metadata": {},
   "outputs": [],
   "source": [
    "import numpy as np\n",
    "import math\n",
    "from scipy.stats import norm"
   ]
  },
  {
   "cell_type": "code",
   "execution_count": 2,
   "metadata": {},
   "outputs": [],
   "source": [
    "X = np.array([1,2,3,4])\n",
    "Y = np.array([5,6,7,8])\n"
   ]
  },
  {
   "cell_type": "code",
   "execution_count": 3,
   "metadata": {},
   "outputs": [
    {
     "data": {
      "text/plain": [
       "array([[1.66666667, 1.66666667],\n",
       "       [1.66666667, 1.66666667]])"
      ]
     },
     "execution_count": 3,
     "metadata": {},
     "output_type": "execute_result"
    }
   ],
   "source": [
    "np.cov(X, Y)"
   ]
  },
  {
   "cell_type": "code",
   "execution_count": 2,
   "metadata": {},
   "outputs": [],
   "source": [
    "n1 = 200\n",
    "n2 = 200\n",
    "X1 = 160\n",
    "X2 = 148\n",
    "group1 = np.zeros(n1)\n",
    "group2 = np.zeros(n2)\n",
    "for i in range(X1):\n",
    "    group1[i] = 1\n",
    "for i in range(X2):\n",
    "    group2[i] = 1"
   ]
  },
  {
   "cell_type": "code",
   "execution_count": 3,
   "metadata": {},
   "outputs": [
    {
     "name": "stdout",
     "output_type": "stream",
     "text": [
      "The standard error of parametric bootstrap for psi is:  0.041328608853311286\n"
     ]
    }
   ],
   "source": [
    "Ne = 10**4\n",
    "t_boot = np.empty(Ne)\n",
    "for i in range (len(t_boot)):\n",
    "    x_star_1 = np.random.choice(group1, n1, replace = True)\n",
    "    x_star_2 = np.random.choice(group2, n2, replace = True)\n",
    "    t_boot[i]= np.sum(x_star_1)/n1 - np.sum(x_star_2)/n2\n",
    "se_boot = t_boot.std()\n",
    "print(\"The standard error of parametric bootstrap for psi is: \", se_boot)\n"
   ]
  },
  {
   "cell_type": "code",
   "execution_count": 4,
   "metadata": {},
   "outputs": [
    {
     "name": "stdout",
     "output_type": "stream",
     "text": [
      "the approximate 90 percent confidence interval for psi using parametric bootstrap is:  (-0.007979512169227793, 0.1279795121692278)\n"
     ]
    }
   ],
   "source": [
    "alpha = 0.1\n",
    "z_10 = norm.ppf(1 - alpha/2)\n",
    "psi = 0.06\n",
    "CI = (psi -z_10 * se_boot, psi + z_10 * se_boot)\n",
    "print(\"the approximate 90 percent confidence interval for psi using parametric bootstrap is: \", CI)"
   ]
  },
  {
   "cell_type": "markdown",
   "metadata": {},
   "source": [
    "Chapter9 Exercise9"
   ]
  },
  {
   "cell_type": "markdown",
   "metadata": {},
   "source": [
    "(a) use the parametric bootstrap to get $\\hat{se}$ and 95 percent confidence interval for $\\theta$"
   ]
  },
  {
   "cell_type": "code",
   "execution_count": 52,
   "metadata": {},
   "outputs": [],
   "source": [
    "import numpy as np\n",
    "from scipy.stats import norm"
   ]
  },
  {
   "cell_type": "code",
   "execution_count": 117,
   "metadata": {},
   "outputs": [],
   "source": [
    "n = 100\n",
    "Ne = 10**4\n",
    "X = norm.rvs(5, 1, n)\n",
    "mu_hat = np.mean(X)\n",
    "theta_hat = np.exp(np.mean(X))"
   ]
  },
  {
   "cell_type": "code",
   "execution_count": 118,
   "metadata": {},
   "outputs": [
    {
     "name": "stdout",
     "output_type": "stream",
     "text": [
      "the se using parametric bootstrap is:  13.642376296059604\n"
     ]
    }
   ],
   "source": [
    "t_boot_par = np.empty(Ne)\n",
    "for i in range(Ne):\n",
    "    x_star = norm.rvs(mu_hat, 1, n)\n",
    "    t_boot_par[i] = np.exp(np.mean(x_star))\n",
    "se_t_boot_par = t_boot_par.std()\n",
    "print(\"the se using parametric bootstrap is: \", se_t_boot_par)\n",
    "    "
   ]
  },
  {
   "cell_type": "code",
   "execution_count": 119,
   "metadata": {},
   "outputs": [
    {
     "name": "stdout",
     "output_type": "stream",
     "text": [
      "the approximate 95 percent confidence interval for psi using parametric bootstrap is:  (108.32586958943443, 161.80300199707398)\n"
     ]
    }
   ],
   "source": [
    "alpha = 0.05\n",
    "z_5 = norm.ppf(1 - alpha/2)\n",
    "CI = (theta_hat - z_5 * se_t_boot_par, theta_hat + z_5 * se_t_boot_par)\n",
    "print(\"the approximate 95 percent confidence interval for psi using parametric bootstrap is: \", CI)"
   ]
  },
  {
   "cell_type": "markdown",
   "metadata": {},
   "source": [
    "use the non-parametric bootstrap to get $\\hat{se}$ and 95 percent confidence interval for $\\theta$"
   ]
  },
  {
   "cell_type": "code",
   "execution_count": 120,
   "metadata": {},
   "outputs": [
    {
     "name": "stdout",
     "output_type": "stream",
     "text": [
      "the se using nonparametric bootstrap is:  11.767367288323701\n"
     ]
    }
   ],
   "source": [
    "theta_hat = np.exp(np.mean(X))\n",
    "t_boot_nonpar = np.empty(Ne)\n",
    "for i in range(Ne):\n",
    "    x_star = np.random.choice(X, n, replace = True)\n",
    "    t_boot_nonpar[i] = np.exp(np.mean(x_star))\n",
    "se_t_boot_nonpar = t_boot_nonpar.std()\n",
    "print(\"the se using nonparametric bootstrap is: \", se_t_boot_nonpar)"
   ]
  },
  {
   "cell_type": "code",
   "execution_count": 102,
   "metadata": {},
   "outputs": [
    {
     "name": "stdout",
     "output_type": "stream",
     "text": [
      "the approximate 95 percent confidence interval for psi using non-parametric bootstrap is:  (114.38489402033284, 173.2736673080651)\n"
     ]
    }
   ],
   "source": [
    "alpha = 0.05\n",
    "z_5 = norm.ppf(1 - alpha/2)\n",
    "CI = (theta_hat - z_5 * se_t_boot_nonpar, theta_hat + z_5 * se_t_boot_nonpar)\n",
    "print(\"the approximate 95 percent confidence interval for psi using non-parametric bootstrap is: \", CI)"
   ]
  },
  {
   "cell_type": "markdown",
   "metadata": {},
   "source": [
    "se generated by parametric bootstrap is almost the same as the se generated by non-parametric bootstrap. But the se generated by parametric and non-parametric bootstrap vary much more than the se generated by the delta method, depending on each independent experiment."
   ]
  },
  {
   "cell_type": "markdown",
   "metadata": {},
   "source": [
    "(b)"
   ]
  },
  {
   "cell_type": "code",
   "execution_count": 50,
   "metadata": {},
   "outputs": [],
   "source": [
    "import numpy as np\n",
    "import scipy.stats as stats\n",
    "import matplotlib.pyplot as plt\n",
    "\n",
    "x = np.linspace(30, 300, 1000)"
   ]
  },
  {
   "cell_type": "markdown",
   "metadata": {},
   "source": [
    "true sampling distribution of $\\theta$"
   ]
  },
  {
   "cell_type": "code",
   "execution_count": 51,
   "metadata": {},
   "outputs": [],
   "source": [
    "def theta_cdf(x):\n",
    "    return norm.cdf(np.log(x), loc=5, scale=1/50)\n",
    "\n",
    "theta_cdf_x = list(map(theta_cdf, x))\n",
    "theta_cdf_x_pdf = np.empty(len(x))\n",
    "theta_cdf_x_pdf[0] = 0\n",
    "theta_cdf_x_pdf[1:] = np.diff(theta_cdf_x)"
   ]
  },
  {
   "cell_type": "markdown",
   "metadata": {},
   "source": [
    "plot a histogrsm of the bootstrap replications for the parametric bootstrap. \n"
   ]
  },
  {
   "cell_type": "code",
   "execution_count": 49,
   "metadata": {
    "scrolled": false
   },
   "outputs": [
    {
     "data": {
      "image/png": "[encoded data removed]",
      "text/plain": [
       "<Figure size 432x288 with 1 Axes>"
      ]
     },
     "metadata": {
      "needs_background": "light"
     },
     "output_type": "display_data"
    }
   ],
   "source": [
    "plt.hist(t_boot_par, x, density=True,  histtype='step', label = \"parametric bootstrap\", color = \"green\")\n",
    "plt.hist(t_boot_nonpar, x, density=True, histtype='step',label = \"nonparametric bootstrap\", color = \"blue\")\n",
    "plt.legend()\n",
    "plt.show()"
   ]
  },
  {
   "cell_type": "markdown",
   "metadata": {},
   "source": [
    "plot the approximation by the delta method and the true sampling distribution of $\\hat{\\theta}$ "
   ]
  },
  {
   "cell_type": "code",
   "execution_count": 14,
   "metadata": {},
   "outputs": [
    {
     "data": {
      "image/png": "[encoded data removed]",
      "text/plain": [
       "<Figure size 432x288 with 1 Axes>"
      ]
     },
     "metadata": {
      "needs_background": "light"
     },
     "output_type": "display_data"
    }
   ],
   "source": [
    "plt.step(x, theta_cdf_x_pdf, color='red', label=\"true sampling distribution\")\n",
    "plt.plot(x, stats.norm.pdf(x, np.exp(5), np.exp(5)/10), label= \"delta method\", color = \"purple\")\n",
    "plt.legend()\n",
    "plt.show()"
   ]
  },
  {
   "cell_type": "markdown",
   "metadata": {},
   "source": [
    "The se of the delta method is $\\frac{e^{5}}{10} = 14.8413$, which is larger than the sd of true sampling distribution"
   ]
  },
  {
   "cell_type": "markdown",
   "metadata": {},
   "source": [
    "observe that the approximation by delta method is cloest to the true distribution of $\\theta$ compared with the approximation by parametric bootstrap and nonparametrix bootstrap"
   ]
  },
  {
   "cell_type": "markdown",
   "metadata": {},
   "source": [
    "Chapter9 Exercise10"
   ]
  },
  {
   "cell_type": "markdown",
   "metadata": {},
   "source": [
    "(a) \n",
    "true distribution of $\\hat{\\theta}$ analytically"
   ]
  },
  {
   "cell_type": "code",
   "execution_count": 1,
   "metadata": {},
   "outputs": [],
   "source": [
    "import numpy as np\n",
    "import scipy.stats as stats\n",
    "import matplotlib.pyplot as plt\n",
    "from scipy.stats import uniform"
   ]
  },
  {
   "cell_type": "code",
   "execution_count": 32,
   "metadata": {},
   "outputs": [],
   "source": [
    "def theta_pdf(x):\n",
    "    if x<0:\n",
    "        return 0\n",
    "    elif 0<=x<1:\n",
    "        return 50*x**49\n",
    "    else:\n",
    "        return 1"
   ]
  },
  {
   "cell_type": "code",
   "execution_count": 33,
   "metadata": {},
   "outputs": [],
   "source": [
    "bins = np.linspace(-0.2, 1.2, 1000)\n",
    "theta_pdf_bins = list(map(theta_pdf, bins))\n"
   ]
  },
  {
   "cell_type": "markdown",
   "metadata": {},
   "source": [
    "distribution of $\\hat{\\theta}$ according to parametric bootstrap"
   ]
  },
  {
   "cell_type": "code",
   "execution_count": 4,
   "metadata": {},
   "outputs": [],
   "source": [
    "n = 50\n",
    "Ne = 10**4\n",
    "X = uniform.rvs(0,1,n)"
   ]
  },
  {
   "cell_type": "code",
   "execution_count": 5,
   "metadata": {},
   "outputs": [],
   "source": [
    "theta_hat = np.max(X)\n",
    "t_boot_par = np.empty(Ne)\n",
    "for i in range(Ne):\n",
    "    x_star = uniform.rvs(0,theta_hat, n)\n",
    "    t_boot_par[i] = np.max(x_star)\n",
    "\n",
    "    "
   ]
  },
  {
   "cell_type": "markdown",
   "metadata": {},
   "source": [
    "distribution of $\\hat{\\theta}$ according to non-parametric bootstrap"
   ]
  },
  {
   "cell_type": "code",
   "execution_count": 6,
   "metadata": {},
   "outputs": [],
   "source": [
    "t_boot_nonpar = np.empty(Ne)\n",
    "for i in range(Ne):\n",
    "    x_star = np.random.choice(X, n, replace = True)\n",
    "    t_boot_nonpar[i] = np.max(x_star)\n"
   ]
  },
  {
   "cell_type": "code",
   "execution_count": 22,
   "metadata": {
    "scrolled": true
   },
   "outputs": [
    {
     "data": {
      "image/png": "[encoded data removed]",
      "text/plain": [
       "<Figure size 432x288 with 1 Axes>"
      ]
     },
     "metadata": {
      "needs_background": "light"
     },
     "output_type": "display_data"
    }
   ],
   "source": [
    "plt.hist(t_boot_par, bins,density = True, histtype=\"step\",label = \"parametric bootstrap\", color = \"green\" )\n",
    "plt.legend()\n",
    "plt.show()"
   ]
  },
  {
   "cell_type": "code",
   "execution_count": 23,
   "metadata": {},
   "outputs": [
    {
     "data": {
      "image/png": "[encoded data removed]",
      "text/plain": [
       "<Figure size 432x288 with 1 Axes>"
      ]
     },
     "metadata": {
      "needs_background": "light"
     },
     "output_type": "display_data"
    }
   ],
   "source": [
    "plt.hist(t_boot_nonpar,bins,density=True,histtype=\"step\", label = \"non-parametric bootstrap\", color = \"blue\" )\n",
    "plt.legend()\n",
    "plt.show()"
   ]
  },
  {
   "cell_type": "code",
   "execution_count": 34,
   "metadata": {},
   "outputs": [
    {
     "data": {
      "image/png": "[encoded data removed]",
      "text/plain": [
       "<Figure size 432x288 with 1 Axes>"
      ]
     },
     "metadata": {
      "needs_background": "light"
     },
     "output_type": "display_data"
    }
   ],
   "source": [
    "\n",
    "plt.plot(bins, theta_pdf_bins, label=\" True distribution of theta_hat\", color = \"red\")\n",
    "plt.legend()\n",
    "plt.show()"
   ]
  },
  {
   "cell_type": "markdown",
   "metadata": {},
   "source": [
    "parametric bootstrap is a better approximation of the true distribution of $\\hat{\\theta}$"
   ]
  },
  {
   "cell_type": "markdown",
   "metadata": {},
   "source": [
    "Additional problem 2"
   ]
  },
  {
   "cell_type": "markdown",
   "metadata": {},
   "source": [
    "we implement the parametric bootstrap for a correlation estimation problem.\n",
    "\n",
    "Let $W,Z \\sim N(0,1)$ be independent. Define $X = W + \\gamma Z$ and $Y = Z + \\gamma W$.\n",
    "\n",
    "Then\n",
    "$\\mathbb{E}[X] = \\mathbb{E}[Y] = 0, \\quad \\mathbb{E}[X^2] = \\mathbb{E}[Y^2] = 1 + \\gamma^2, \\quad \\mathbb{E}[XY] = 2\\gamma, $ \n",
    "\n",
    "so\n",
    "$\\rho_{X,Y} = \\frac{\\mathbb{E}[XY]}{\\sqrt{ \\mathbb{E}[X^2]\\, \\mathbb{E}[Y^2] }}  = \\frac{2 \\gamma }{1+\\gamma^2}.\n",
    "$"
   ]
  },
  {
   "cell_type": "markdown",
   "metadata": {},
   "source": [
    "MLE for the model is given by \n",
    "\n",
    "$\\hat{\\mu}= \\frac{1}{n}\\sum_{i=1}^{n}X_{i}$\n",
    "\n",
    "$\\hat{\\sum}= \\frac{1}{n}\\sum_{i=1}^{n}(X_{i}-\\hat{\\mu})(X_{i}-\\hat{\\mu})^{T}$"
   ]
  },
  {
   "cell_type": "code",
   "execution_count": 1,
   "metadata": {},
   "outputs": [],
   "source": [
    "import numpy as np                         # Numerical computing\n",
    "from matplotlib import pyplot as plt       # Plotting\n",
    "from scipy import stats                    # Random Sampling\n",
    "from tqdm import tqdm    \n",
    "from scipy.stats import norm\n",
    "# Keep track of progress for long loops"
   ]
  },
  {
   "cell_type": "code",
   "execution_count": 105,
   "metadata": {},
   "outputs": [],
   "source": [
    "# Set the parameters\n",
    "B = 1000      # number of bootstrap replicates\n",
    "gamma = 0.1   # model parameter\n",
    "Ne = 1000     # number of experiments\n",
    "\n",
    "# Exact correlation\n",
    "rho_exact = (2*gamma)/(1+gamma**2)"
   ]
  },
  {
   "cell_type": "code",
   "execution_count": 106,
   "metadata": {},
   "outputs": [],
   "source": [
    "def sample_data(n, gamma, Ne):\n",
    "\n",
    "    W = np.random.randn(Ne, n)  # Rows correspond to different experiments\n",
    "    Z = np.random.randn(Ne, n)\n",
    "    X = W + gamma*Z\n",
    "    Y = Z + gamma*W\n",
    "    return (X, Y)\n",
    "\n",
    "# data of Ne independent experiment with sample size n (Ne, n)\n"
   ]
  },
  {
   "cell_type": "code",
   "execution_count": 107,
   "metadata": {},
   "outputs": [],
   "source": [
    "def compute_rho_hat(X, Y):\n",
    "    \"\"\"\n",
    "    Compute rho_hat for each experiment.\n",
    "    X, Y have shape (Ne, n)\n",
    "    Returns a vector of shape (Ne,)\n",
    "    \"\"\"\n",
    "    # Estimated correlation for each each experiment (vector of length Ne)\n",
    "    rho_hat = np.mean(X*Y, axis=1) / np.sqrt( np.mean(X*X, axis=1) * np.mean(Y*Y, axis=1) )\n",
    "    return rho_hat"
   ]
  },
  {
   "cell_type": "code",
   "execution_count": 108,
   "metadata": {},
   "outputs": [],
   "source": [
    "def bias_corrected_rho(X, Y, B):\n",
    "    \"\"\"\n",
    "    Estimate the bias-corrected correlation coefficient using B bootstrap replicates.\n",
    "    \n",
    "    Note that here X and Y have shape (n,) and the output is a float.\n",
    "    \"\"\"\n",
    "    # Get sample size\n",
    "    n = X.shape[0]\n",
    "    # Compute the plug-in estimate\n",
    "    rho_hat = np.mean(X*Y) / np.sqrt( np.mean(X*X) * np.mean(Y*Y) )\n",
    "    \n",
    "    Z = np.array([X,Y])\n",
    "    # using MLE estimator\n",
    "\n",
    "    mu_hat_z = np.mean(Z, axis = 1)\n",
    "\n",
    "    diff = np.zeros((2, n))\n",
    "    for i in range(n):\n",
    "        diff[:, i]= Z[:, i]-mu_hat_z\n",
    "    \n",
    "    summ = np.zeros((2,2))\n",
    "    for i in range(0,n):\n",
    "        summ += np.array([[(diff[0][i])**2, diff[0][i]*diff[1][i]],[diff[0][i]*diff[1][i], (diff[1][i])**2]])\n",
    "    sigma_hat = summ / n\n",
    "\n",
    "    # Pre-allocate space for bootstrap samples\n",
    "    rho_boot = np.zeros(B)\n",
    "    \n",
    "    for b in range(B):\n",
    "        # sample from our best-estimated distribution with estimators calculated from MLE.\n",
    "        X_star, Y_star = np.random.multivariate_normal(mu_hat_z, sigma_hat, n).T\n",
    "\n",
    "        # Compute bootstrap replicate\n",
    "        rho_boot[b] = np.mean(X_star*Y_star) / np.sqrt( np.mean(X_star*X_star) * np.mean(Y_star*Y_star) )\n",
    "    \n",
    "    # Return the bias-corrected rho , = rho_hat - bias = rho_hat - (mean of rho_boot - rho_hat)\n",
    "    return 2*rho_hat - np.mean(rho_boot)"
   ]
  },
  {
   "cell_type": "code",
   "execution_count": 109,
   "metadata": {},
   "outputs": [],
   "source": [
    "def compute_rho_boot(X, Y, B):\n",
    "    \"\"\"\n",
    "    Helper method to compute the bias corrected rho for many experiments.\n",
    "    \"\"\"\n",
    "    Ne = X.shape[0]\n",
    "    # Perform Ne experiments\n",
    "    rho_boot = np.zeros(Ne)\n",
    "    for i in range(Ne):\n",
    "        rho_boot[i] = bias_corrected_rho(X[i], Y[i], B)\n",
    "    return rho_boot"
   ]
  },
  {
   "cell_type": "code",
   "execution_count": 110,
   "metadata": {},
   "outputs": [],
   "source": [
    "# Wrap everything into the following function.\n",
    "def estimate_bias_RMSE(n, gamma, B, Ne, rho_exact):\n",
    "    X, Y = sample_data(n, gamma, Ne)\n",
    "    # Compute the plug-in and bias corrected bootstrap estimators\n",
    "    rho_hat  = compute_rho_hat(X, Y)\n",
    "    rho_boot = compute_rho_boot(X, Y, B)\n",
    "    # Estimate the bias of each method\n",
    "    bias = np.zeros(2)\n",
    "    rmse = np.zeros(2)\n",
    "    bias[0] = np.mean(rho_hat) - rho_exact # bias of the plug in estimator\n",
    "    bias[1] = np.mean(rho_boot) - rho_exact # bias of rho_boot\n",
    "    rmse[0] = np.sqrt(np.mean((rho_hat - rho_exact)**2)) # rmse of the plug in estimator\n",
    "    rmse[1] = np.sqrt(np.mean((rho_boot - rho_exact)**2)) # rmse of the rho_boot\n",
    "    return (bias, rmse)"
   ]
  },
  {
   "cell_type": "code",
   "execution_count": 111,
   "metadata": {},
   "outputs": [
    {
     "name": "stderr",
     "output_type": "stream",
     "text": [
      "/Users/yge/opt/anaconda3/lib/python3.8/site-packages/numpy/core/fromnumeric.py:3372: RuntimeWarning: Mean of empty slice.\n",
      "  return _methods._mean(a, axis=axis, dtype=dtype,\n",
      "/Users/yge/opt/anaconda3/lib/python3.8/site-packages/numpy/core/_methods.py:162: RuntimeWarning: invalid value encountered in true_divide\n",
      "  ret = um.true_divide(\n",
      "/Users/yge/opt/anaconda3/lib/python3.8/site-packages/numpy/core/_methods.py:170: RuntimeWarning: invalid value encountered in double_scalars\n",
      "  ret = ret.dtype.type(ret / rcount)\n",
      "<ipython-input-108-63a92e68ca3b>:24: RuntimeWarning: invalid value encountered in true_divide\n",
      "  sigma_hat = summ / n\n",
      "<ipython-input-108-63a92e68ca3b>:31: RuntimeWarning: covariance is not positive-semidefinite.\n",
      "  X_star, Y_star = np.random.multivariate_normal(mu_hat_z, sigma_hat, n).T\n"
     ]
    },
    {
     "name": "stdout",
     "output_type": "stream",
     "text": [
      "50\n",
      "100\n",
      "200\n",
      "250\n",
      "300\n"
     ]
    }
   ],
   "source": [
    "# Compute the bias and rmse over many experiments for different sample sizes\n",
    "nlist = [50, 100, 200, 250,300]\n",
    "\n",
    "bias = np.zeros((len(nlist), 2))\n",
    "rmse = np.zeros((len(nlist), 2))\n",
    "\n",
    "for i in range(len(nlist)):\n",
    "    n = nlist[i]\n",
    "    bias[i, :], rmse[i, :] = estimate_bias_RMSE(i, gamma, B, Ne, rho_exact)\n",
    "    print(n) # Print n to keep track of progress"
   ]
  },
  {
   "cell_type": "code",
   "execution_count": 112,
   "metadata": {},
   "outputs": [
    {
     "data": {
      "text/plain": [
       "Text(0, 0.5, 'Bias')"
      ]
     },
     "execution_count": 112,
     "metadata": {},
     "output_type": "execute_result"
    },
    {
     "data": {
      "image/png": "[encoded data removed]",
      "text/plain": [
       "<Figure size 432x288 with 1 Axes>"
      ]
     },
     "metadata": {
      "needs_background": "light"
     },
     "output_type": "display_data"
    }
   ],
   "source": [
    "plt.semilogx(np.array(nlist), bias[:,0], c='b', marker='o', label='rho_hat')\n",
    "plt.semilogx(np.array(nlist), bias[:,1], c='r', marker='s', label='rho_boot')\n",
    "plt.legend()\n",
    "plt.xlabel('n')\n",
    "plt.ylabel('Bias')\n"
   ]
  },
  {
   "cell_type": "code",
   "execution_count": 113,
   "metadata": {
    "scrolled": false
   },
   "outputs": [
    {
     "data": {
      "image/png": "[encoded data removed]",
      "text/plain": [
       "<Figure size 720x288 with 2 Axes>"
      ]
     },
     "metadata": {
      "needs_background": "light"
     },
     "output_type": "display_data"
    }
   ],
   "source": [
    "fig, ax = plt.subplots(1, 2, sharex=True, figsize=(10,4))\n",
    "ax[0].semilogx(nlist, bias[:,0], c='b', marker='o', label='rho_hat')\n",
    "ax[0].semilogx(nlist, bias[:,1], c='r', marker='s', label='rho_boot')\n",
    "ax[0].legend()\n",
    "ax[0].set_xlabel('n')\n",
    "ax[0].set_ylabel('Bias')\n",
    "ax[0].grid()\n",
    "ax[1].semilogx(nlist, rmse[:,0], c='b', marker='o', label='rho_hat')\n",
    "ax[1].semilogx(nlist, rmse[:,1], c='r', marker='s', label='rho_boot')\n",
    "ax[1].legend()\n",
    "ax[1].set_xlabel('n')\n",
    "ax[1].set_ylabel('RMSE')\n",
    "ax[1].grid()\n"
   ]
  },
  {
   "cell_type": "markdown",
   "metadata": {},
   "source": [
    "We see that as we increase the sample size $n$, the bias decreases and the bias of rho_boot is smaller than the bias of the plug in estimator. However, the RMSE of rho_boot is larger than that of the plug in estimator. The result is similar to the one of parametric bootstrap in HW3."
   ]
  },
  {
   "cell_type": "code",
   "execution_count": null,
   "metadata": {},
   "outputs": [],
   "source": []
  }
 ],
 "metadata": {
  "kernelspec": {
   "display_name": "Python 3",
   "language": "python",
   "name": "python3"
  },
  "language_info": {
   "codemirror_mode": {
    "name": "ipython",
    "version": 3
   },
   "file_extension": ".py",
   "mimetype": "text/x-python",
   "name": "python",
   "nbconvert_exporter": "python",
   "pygments_lexer": "ipython3",
   "version": "3.8.5"
  }
 },
 "nbformat": 4,
 "nbformat_minor": 4
}
